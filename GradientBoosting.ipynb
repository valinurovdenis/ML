{
 "cells": [
  {
   "cell_type": "code",
   "execution_count": 84,
   "metadata": {},
   "outputs": [],
   "source": [
    "import numpy as np\n",
    "import matplotlib.pyplot as plt"
   ]
  },
  {
   "cell_type": "code",
   "execution_count": 353,
   "metadata": {},
   "outputs": [],
   "source": [
    "class Splitter:\n",
    "    def __init__(self, criterion):\n",
    "        self.criterion = getattr(self, criterion) \n",
    "        \n",
    "    def gini(self, y, splits, y_pred=None):\n",
    "        cumulative = np.cumsum(y, 0)\n",
    "        initial = np.sum((cumulative[-1] / y.shape[0]) ** 2)\n",
    "        left_ns = splits.reshape(-1,1) + 1.0\n",
    "        right_ns = y.shape[0] - left_ns\n",
    "\n",
    "        left_ps = cumulative[splits] / left_ns\n",
    "        right_ps = (cumulative[-1] - cumulative[splits]) / right_ns\n",
    "\n",
    "        left_ws = left_ns / y.shape[0]\n",
    "        right_ws = 1 - left_ws\n",
    "\n",
    "        left_gs = np.sum(left_ps ** 2, 1)\n",
    "        right_gs = np.sum(right_ps ** 2, 1)\n",
    "\n",
    "        gs = initial-(left_ws.ravel() * left_gs + right_ws.ravel() * right_gs)\n",
    "        return gs\n",
    "    \n",
    "    def mse(self, y, splits, y_pred=None):\n",
    "        left_plain = np.cumsum(y)\n",
    "        left_squared = np.cumsum(y ** 2)\n",
    "\n",
    "        initial = (left_squared[-1] - left_plain[-1] ** 2 / y.shape[0]) / y.shape[0]\n",
    "\n",
    "        right_plain = left_plain[-1] - left_plain\n",
    "        right_squared = left_squared[-1] - left_squared\n",
    "\n",
    "        left_ns = splits + 1.0\n",
    "        right_ns = y.shape[0] - left_ns\n",
    "\n",
    "        left_ws = left_ns / y.shape[0]\n",
    "        right_ws = 1 - left_ws\n",
    "\n",
    "        left_vs = (left_squared[splits] - left_plain[splits] ** 2 / left_ns) / left_ns\n",
    "        right_vs = (right_squared[splits] - right_plain[splits] ** 2 / right_ns) / right_ns\n",
    "\n",
    "        vs = (left_ws * left_vs + right_ws * right_vs) - initial\n",
    "        return vs\n",
    "    \n",
    "    def xgboost(self, y, splits, y_pred, alpha=0.1, gamma=0.1):\n",
    "        g = -y * np.exp(-y * y_pred)\n",
    "        s = y**2 * np.exp(-y * y_pred)\n",
    "\n",
    "        g_left = np.cumsum(g, 0)\n",
    "        g_right = g_left[-1] - g_left\n",
    "        \n",
    "        s_left = np.cumsum(s, 0)\n",
    "        s_right = s_left[-1] - s_left\n",
    "        \n",
    "        g_left_splits = g_left[splits]\n",
    "        g_right_splits = g_right[splits]\n",
    "        s_left_splits = s_left[splits]\n",
    "        s_right_splits = s_right[splits]\n",
    "        \n",
    "        ret = gamma - (g_left_splits ** 2) / (s_left_splits + alpha) - \\\n",
    "              (g_right_splits ** 2) / (s_right_splits + alpha) + \\\n",
    "              (g_left_splits + g_right_splits) ** 2 / (s_left_splits + s_right_splits + alpha)\n",
    "        return None if np.count_nonzero(ret > 0) == y.shape[0] else ret\n",
    "        # return ret\n",
    "    \n",
    "    def _sort_samples(self, x, y, y_pred):\n",
    "        sorted_idx = x.argsort()\n",
    "        return x[sorted_idx], y[sorted_idx], sorted_idx, None if y_pred is None else y_pred[sorted_idx]\n",
    "\n",
    "    def get_best_split_for_feature(self, X, y, feature, y_pred=None, **kwargs):\n",
    "        x = X[:, feature]\n",
    "        x, y, sorted_idx, y_pred = self._sort_samples(x, y, y_pred)\n",
    "        \n",
    "        possible_splits = np.where(x[1:] != x[:-1])[0]\n",
    "        if len(possible_splits) == 0:\n",
    "            return\n",
    "        \n",
    "        gain = self.criterion(y, possible_splits, y_pred, **kwargs)\n",
    "        if gain is None:\n",
    "            return\n",
    "        best_split = np.argmin(gain)\n",
    "        value_split = (x[possible_splits[best_split]] + x[possible_splits[best_split] + 1]) / 2.0\n",
    "        left_idx = sorted_idx[:possible_splits[best_split] + 1]\n",
    "        right_idx = sorted_idx[possible_splits[best_split] + 1:]\n",
    "        return value_split, gain[best_split], left_idx, right_idx, feature\n",
    "\n",
    "    def fit(self, X, y, y_pred=None, **kwargs):\n",
    "        best_loss = 0\n",
    "        left_idx, right_idx, self.feature, self.theta = None, None, None, None\n",
    "        \n",
    "        gains = [self.get_best_split_for_feature(X, y, feature, y_pred, **kwargs) for feature in range(X.shape[1])]\n",
    "        \n",
    "        temp = min([x for x in gains if x], key=lambda x: x[1])\n",
    "        if temp:\n",
    "            self.theta, best_loss, left_idx, right_idx, self.feature = temp\n",
    "\n",
    "        return left_idx, right_idx\n",
    "    \n",
    "    def predict(self, X):\n",
    "        return X[:, self.feature] > self.theta"
   ]
  },
  {
   "cell_type": "code",
   "execution_count": 354,
   "metadata": {},
   "outputs": [],
   "source": [
    "class Node:\n",
    "    def __init__(self, criterion, node_id):\n",
    "        self.node_id = node_id\n",
    "        self.splitter = Splitter(criterion)\n",
    "        self.is_leaf = False\n",
    "\n",
    "    def make_leaf(self, X, y):\n",
    "        self.is_leaf = True\n",
    "        self.mean = np.mean(y)\n",
    "\n",
    "    def split(self, X, y, y_pred=None, **kwargs):\n",
    "        return self.splitter.fit(X, y, y_pred, **kwargs)\n",
    "\n",
    "    def predict(self, X):\n",
    "        if self.is_leaf:\n",
    "            return np.full([X.shape[0]], self.mean)\n",
    "        else:\n",
    "            return self.splitter.predict(X)"
   ]
  },
  {
   "cell_type": "code",
   "execution_count": 355,
   "metadata": {},
   "outputs": [],
   "source": [
    "class CART: \n",
    "    def __init__(self, criterion='gini', max_depth=None, min_samples_split=2, max_features='n_features', **kwargs):\n",
    "        self.criterion = criterion\n",
    "        self.max_depth = max_depth\n",
    "        self.min_samples_split = min_samples_split\n",
    "        self.max_features = max_features\n",
    "        self._y_pred = None\n",
    "        self.kwargs = kwargs\n",
    "        \n",
    "    def _get_feature_ids_sqrt(self, n_feature):\n",
    "        feature_ids = range(n_feature)\n",
    "        np.random.shuffle(feature_ids)\n",
    "        return feature_ids[:int(np.sqrt(n_feature))]\n",
    "        \n",
    "    def _get_feature_ids_log2(self, n_feature):\n",
    "        feature_ids = range(n_feature)\n",
    "        np.random.shuffle(feature_ids)\n",
    "        return feature_ids[:int(np.log2(n_feature))]\n",
    "\n",
    "    def _get_feature_ids_N(self, n_feature):\n",
    "        return range(n_feature)\n",
    "        \n",
    "    def _make_node(self):\n",
    "        n = Node(self.criterion, len(self.nodes))\n",
    "        self.nodes.append(n)\n",
    "        return n\n",
    "    \n",
    "    def _fit_node(self, X, y, depth, y_pred=None):\n",
    "        node = self._make_node()\n",
    "        is_leaf = (self.max_depth and depth == self.max_depth) or \\\n",
    "                  (y.shape[0] < self.min_samples_split) or \\\n",
    "                  (np.unique(y).shape[0] == 1)\n",
    "        if is_leaf:\n",
    "            node.make_leaf(X, y)\n",
    "            return node.node_id\n",
    "\n",
    "        node.features = self._get_features(X.shape[1])\n",
    "        left_node_idx, right_node_idx = node.split(X[:, node.features], y, y_pred, **self.kwargs)\n",
    "        if left_node_idx is None or right_node_idx is None:\n",
    "            node.make_leaf(X, y)\n",
    "            return node.node_id\n",
    "        \n",
    "        node.left = self._fit_node(X[left_node_idx], y[left_node_idx], depth+1, None if y_pred is None else y_pred[left_node_idx])\n",
    "        node.right = self._fit_node(X[right_node_idx], y[right_node_idx], depth+1, None if y_pred is None else y_pred[right_node_idx])\n",
    "\n",
    "        return node.node_id\n",
    "        \n",
    "    def fit(self, X, y, y_pred=None):\n",
    "        self.total_features = X.shape[1]\n",
    "        if self.max_features == 'n_features':\n",
    "            self._get_features = self._get_feature_ids_N\n",
    "        if self.max_features == 'sqrt':\n",
    "            self._get_features = _get_feature_ids_sqrt\n",
    "        if self.max_features == 'log2':\n",
    "            self._get_features = _get_feature_ids_log2\n",
    "        \n",
    "        self.nodes = []\n",
    "        self._fit_node(X, y, 0, y_pred)\n",
    "    \n",
    "    def _terminal_leaves(self, X, node_id):\n",
    "        ids = np.array([node_id for _ in range(X.shape[0])], dtype=np.int)\n",
    "        node = self.nodes[node_id]\n",
    "        if node.is_leaf:\n",
    "            return ids\n",
    "\n",
    "        node_split = node.predict(X[:,node.features])      \n",
    "        right_size = np.count_nonzero(node_split)\n",
    "        if right_size != 0:\n",
    "            ids[node_split] = self._terminal_leaves(X[node_split], node.right)\n",
    "        if right_size != X.shape[0]:\n",
    "            ids[node_split == False] = self._terminal_leaves(X[node_split == False], node.left)\n",
    "        return ids\n",
    "    \n",
    "    def predict_proba(self, X):\n",
    "        if len(X.shape) == 1:\n",
    "            X = X.reshape(1, -1)\n",
    "        y = np.empty([X.shape[0]])\n",
    "\n",
    "        leaves = self._terminal_leaves(X, 0)\n",
    "        for leaf in np.unique(leaves):\n",
    "            mask = leaves == leaf\n",
    "            y[mask] = self.nodes[leaf].predict(X[mask])\n",
    "        return y\n",
    "    \n",
    "    def predict(self, X):\n",
    "        return (self.predict_proba(X) > 0) * 1"
   ]
  },
  {
   "cell_type": "code",
   "execution_count": 356,
   "metadata": {},
   "outputs": [],
   "source": [
    "class AdaboostLoss:\n",
    "    def __init__(self):\n",
    "        self.b = 1\n",
    "        \n",
    "    def value(self, y, y_pred):\n",
    "        return np.mean(np.exp(-y * y_pred))\n",
    "        \n",
    "    def antigradient(self, y, y_pred):\n",
    "        return y * np.exp(-y * y_pred)\n",
    "    \n",
    "    def update_b_with_newton_raphson(self, y, y_pred):\n",
    "        numerator = np.sum(y * np.exp(-y * y_pred))\n",
    "        denominator = np.sum(np.exp(-y * y_pred))\n",
    "        if abs(denominator) < 1e-30:\n",
    "            return 0\n",
    "        return numerator / denominator"
   ]
  },
  {
   "cell_type": "code",
   "execution_count": 357,
   "metadata": {},
   "outputs": [],
   "source": [
    "class GradientBoosting:\n",
    "    def __init__(self, base_model, n_estimators, learning_rate=0.1, loss=AdaboostLoss, init_model=None, **kwargs):\n",
    "        self.n_estimators = n_estimators\n",
    "        self.base_model = base_model\n",
    "        self.loss = loss()\n",
    "        self.init_model = (init_model or base_model)(**kwargs)\n",
    "        self.kwargs = kwargs\n",
    "        self.losses = []\n",
    "        self.test_losses = []\n",
    "        self.learning_rate = learning_rate\n",
    "        \n",
    "    def fit(self, X, y):\n",
    "        self.models = []\n",
    "        self.init_model.fit(X, y)\n",
    "        y_pred = self.init_model.predict_proba(X)\n",
    "        for i in range(self.n_estimators):\n",
    "            tree = self.base_model(**self.kwargs)\n",
    "            antigradient = self.loss.antigradient(y, y_pred)\n",
    "            tree.fit(X, antigradient)\n",
    "\n",
    "            leaves = tree._terminal_leaves(X, 0)\n",
    "            for leaf in np.unique(leaves):\n",
    "                mask = leaves == leaf\n",
    "                tree.nodes[leaf].mean = self.learning_rate * self.loss.update_b_with_newton_raphson(y[mask], y_pred[mask])\n",
    "\n",
    "            y_pred += tree.predict_proba(X)\n",
    "            self.models.append(tree)\n",
    "            self.losses.append(self.loss.value(y_pred, y))\n",
    "            \n",
    "    def predict_proba(self, X):\n",
    "        pred = self.init_model.predict_proba(X)\n",
    "        for tree in self.models:\n",
    "            pred = pred + tree.predict_proba(X)\n",
    "        return pred\n",
    "    \n",
    "    def predict(self, X):\n",
    "        return np.array([1 if x > 0 else -1 for x in self.predict_proba(X)])"
   ]
  },
  {
   "cell_type": "code",
   "execution_count": 342,
   "metadata": {},
   "outputs": [],
   "source": [
    "class InitModel:\n",
    "    def __init__(self, scale=None, **kwargs):\n",
    "        self.scale = scale or 0.5\n",
    "        \n",
    "    def fit(self, X, y):\n",
    "        pos = np.count_nonzero(y > 0)\n",
    "        neg = np.count_nonzero(y < 0)\n",
    "        self.value = self.scale * np.log((pos * 1.) / neg)\n",
    "        \n",
    "    def predict_proba(self, X):\n",
    "        ret = np.empty(X.shape[0], dtype=np.float64)\n",
    "        ret.fill(self.value)\n",
    "        return ret"
   ]
  },
  {
   "cell_type": "code",
   "execution_count": 91,
   "metadata": {},
   "outputs": [],
   "source": [
    "temp = np.loadtxt('spam.train.class.txt')\n",
    "y = np.array([1 if t else -1 for t in temp[:,0]])\n",
    "X = temp[:, 1:]"
   ]
  },
  {
   "cell_type": "code",
   "execution_count": 92,
   "metadata": {},
   "outputs": [],
   "source": [
    "temp = np.loadtxt('spam.test.class.txt')\n",
    "y_test = np.array([1 if t else -1 for t in temp[:,0]])\n",
    "X_test = temp[:, 1:]"
   ]
  },
  {
   "cell_type": "code",
   "execution_count": null,
   "metadata": {},
   "outputs": [],
   "source": []
  },
  {
   "cell_type": "code",
   "execution_count": null,
   "metadata": {},
   "outputs": [],
   "source": []
  },
  {
   "cell_type": "code",
   "execution_count": 51,
   "metadata": {},
   "outputs": [],
   "source": [
    "boosting = GradientBoosting(base_model=CART, init_model=InitModel, n_estimators=300, max_depth=4, min_samples_split=2, learning_rate=0.1, criterion='mse')"
   ]
  },
  {
   "cell_type": "code",
   "execution_count": 52,
   "metadata": {
    "scrolled": true
   },
   "outputs": [],
   "source": [
    "boosting.fit(X, y)"
   ]
  },
  {
   "cell_type": "code",
   "execution_count": null,
   "metadata": {},
   "outputs": [],
   "source": []
  },
  {
   "cell_type": "code",
   "execution_count": null,
   "metadata": {},
   "outputs": [],
   "source": []
  },
  {
   "cell_type": "code",
   "execution_count": 17,
   "metadata": {},
   "outputs": [
    {
     "name": "stdout",
     "output_type": "stream",
     "text": [
      "\n"
     ]
    }
   ],
   "source": [
    "from sklearn.ensemble import GradientBoostingClassifier"
   ]
  },
  {
   "cell_type": "code",
   "execution_count": 94,
   "metadata": {},
   "outputs": [],
   "source": [
    "sklearn_model = GradientBoostingClassifier(loss='exponential', max_depth=4, n_estimators=400, criterion='mse', min_samples_split=2, learning_rate=0.1)"
   ]
  },
  {
   "cell_type": "code",
   "execution_count": 95,
   "metadata": {},
   "outputs": [
    {
     "data": {
      "text/plain": [
       "GradientBoostingClassifier(criterion='mse', init=None, learning_rate=0.1,\n",
       "              loss='exponential', max_depth=4, max_features=None,\n",
       "              max_leaf_nodes=None, min_impurity_decrease=0.0,\n",
       "              min_impurity_split=None, min_samples_leaf=1,\n",
       "              min_samples_split=2, min_weight_fraction_leaf=0.0,\n",
       "              n_estimators=400, presort='auto', random_state=None,\n",
       "              subsample=1.0, verbose=0, warm_start=False)"
      ]
     },
     "execution_count": 95,
     "metadata": {},
     "output_type": "execute_result"
    }
   ],
   "source": [
    "sklearn_model.fit(X, y)"
   ]
  },
  {
   "cell_type": "code",
   "execution_count": null,
   "metadata": {},
   "outputs": [],
   "source": []
  },
  {
   "cell_type": "code",
   "execution_count": null,
   "metadata": {},
   "outputs": [],
   "source": []
  },
  {
   "cell_type": "markdown",
   "metadata": {},
   "source": [
    "Adaboost loss:"
   ]
  },
  {
   "cell_type": "code",
   "execution_count": 53,
   "metadata": {},
   "outputs": [
    {
     "name": "stdout",
     "output_type": "stream",
     "text": [
      "sklearn on train =  0.01960860532458314\n",
      "custom on train =  0.019424908725423837\n",
      "sklearn on test =  0.4764908225981973\n",
      "custom on test =  0.4751301429577865\n"
     ]
    }
   ],
   "source": [
    "print \"sklearn on train = \", sklearn_model.train_score_[-1]\n",
    "print \"custom on train = \", boosting.losses[-1]\n",
    "print \"sklearn on test = \", AdaboostLoss().value(y_test, sklearn_model.decision_function(X_test))\n",
    "print \"custom on test = \", AdaboostLoss().value(y_test, boosting.predict_proba(X_test))"
   ]
  },
  {
   "cell_type": "markdown",
   "metadata": {},
   "source": [
    "Adaboost loss on train:"
   ]
  },
  {
   "cell_type": "code",
   "execution_count": 38,
   "metadata": {},
   "outputs": [
    {
     "data": {
      "text/plain": [
       "<matplotlib.legend.Legend at 0x7fd4cd083ad0>"
      ]
     },
     "execution_count": 38,
     "metadata": {},
     "output_type": "execute_result"
    },
    {
     "data": {
      "image/png": "[encoded data removed]",
      "text/plain": [
       "<matplotlib.figure.Figure at 0x7fd4cd178ad0>"
      ]
     },
     "metadata": {},
     "output_type": "display_data"
    }
   ],
   "source": [
    "plt.plot(range(300), sklearn_model.train_score_, label='sklearn')\n",
    "plt.plot(range(300), sklearn_model.train_score_ * 1.03, label='sklearn_high', linestyle = '--')\n",
    "plt.plot(range(300), sklearn_model.train_score_ * 0.97, label='sklearn_low', linestyle = '--')\n",
    "plt.plot(range(300), boosting.losses, label='custom')\n",
    "plt.ylim(0.017, 0.035)\n",
    "plt.xlim(220, 300)\n",
    "plt.legend()"
   ]
  },
  {
   "cell_type": "markdown",
   "metadata": {},
   "source": [
    "Accuracy:"
   ]
  },
  {
   "cell_type": "code",
   "execution_count": 26,
   "metadata": {},
   "outputs": [
    {
     "name": "stdout",
     "output_type": "stream",
     "text": [
      "custom train accuracy =  1.0\n",
      "custom test accuracy =  0.956841686555\n",
      "sklearn train accuracy =  1.0\n",
      "sklearn test accuracy =  0.957438345267\n"
     ]
    }
   ],
   "source": [
    "print \"custom train accuracy = \", 1. * np.count_nonzero(boosting.predict(X) == y) / X.shape[0]\n",
    "print \"custom test accuracy = \", 1. * np.count_nonzero(boosting.predict(X_test) == y_test) / X_test.shape[0]\n",
    "print \"sklearn train accuracy = \", 1. * np.count_nonzero(sklearn_model.predict(X) == y) / X.shape[0]\n",
    "print \"sklearn test accuracy = \", 1. * np.count_nonzero(sklearn_model.predict(X_test) == y_test) / X_test.shape[0]"
   ]
  },
  {
   "cell_type": "code",
   "execution_count": null,
   "metadata": {},
   "outputs": [],
   "source": []
  },
  {
   "cell_type": "code",
   "execution_count": null,
   "metadata": {},
   "outputs": [],
   "source": []
  },
  {
   "cell_type": "code",
   "execution_count": null,
   "metadata": {},
   "outputs": [],
   "source": []
  },
  {
   "cell_type": "code",
   "execution_count": null,
   "metadata": {},
   "outputs": [],
   "source": []
  },
  {
   "cell_type": "code",
   "execution_count": 405,
   "metadata": {},
   "outputs": [],
   "source": [
    "class XGBOOST:\n",
    "    def __init__(self, base_model, n_estimators, loss=AdaboostLoss, init_model=None, alpha=0.1, learning_rate=0.1, \n",
    "                 gamma=0.1, **kwargs):\n",
    "        self.n_estimators = n_estimators\n",
    "        self.base_model = base_model\n",
    "        self.loss = loss()\n",
    "        self.init_model = (init_model or base_model)(**kwargs)\n",
    "        self.kwargs = kwargs\n",
    "        self.losses = []\n",
    "        self.alpha = alpha\n",
    "        self.gamma = gamma\n",
    "        self.test_losses = []\n",
    "        self.learning_rate = learning_rate\n",
    "        \n",
    "    def fit(self, X, y):\n",
    "        self.models = []\n",
    "        self.init_model.fit(X, y)\n",
    "        y_pred = self.init_model.predict_proba(X)\n",
    "        for i in range(self.n_estimators):\n",
    "            tree = self.base_model(criterion='xgboost', alpha=self.alpha, gamma=self.gamma, **self.kwargs)\n",
    "            tree.fit(X, y, y_pred)\n",
    "\n",
    "            leaves = tree._terminal_leaves(X, 0)\n",
    "            for leaf in np.unique(leaves):\n",
    "                mask = leaves == leaf\n",
    "                g = np.sum(-y[mask] * np.exp(-y[mask] * y_pred[mask]))\n",
    "                s = np.sum(y[mask]**2 * np.exp(-y[mask] * y_pred[mask]))\n",
    "                tree.nodes[leaf].mean = self.learning_rate * (-g / (s + self.alpha))\n",
    "\n",
    "            y_pred += tree.predict_proba(X)\n",
    "            self.models.append(tree)\n",
    "            self.losses.append(self.loss.value(y_pred, y))\n",
    "            \n",
    "    def predict_proba(self, X):\n",
    "        pred = self.init_model.predict_proba(X)\n",
    "        for tree in self.models:\n",
    "            pred = pred + tree.predict_proba(X)\n",
    "        return pred\n",
    "    \n",
    "    def predict(self, X):\n",
    "        return np.array([1 if x > 0 else -1 for x in self.predict_proba(X)])"
   ]
  },
  {
   "cell_type": "code",
   "execution_count": 417,
   "metadata": {},
   "outputs": [],
   "source": [
    "xgboost = XGBOOST(base_model=CART, init_model=InitModel, n_estimators=300, max_depth=3, min_samples_split=2, alpha=2, gamma=0.1, learning_rate=0.1)"
   ]
  },
  {
   "cell_type": "code",
   "execution_count": 418,
   "metadata": {},
   "outputs": [],
   "source": [
    "xgboost.fit(X, y)"
   ]
  },
  {
   "cell_type": "code",
   "execution_count": null,
   "metadata": {},
   "outputs": [],
   "source": []
  },
  {
   "cell_type": "code",
   "execution_count": null,
   "metadata": {},
   "outputs": [],
   "source": []
  },
  {
   "cell_type": "code",
   "execution_count": 408,
   "metadata": {},
   "outputs": [],
   "source": [
    "from xgboost.sklearn import XGBClassifier"
   ]
  },
  {
   "cell_type": "code",
   "execution_count": 409,
   "metadata": {},
   "outputs": [],
   "source": [
    "def adaboost_loss(y, y_pred):\n",
    "    t = 2 * y_pred.get_label() - 1\n",
    "    return np.mean(np.exp(-y * t))"
   ]
  },
  {
   "cell_type": "code",
   "execution_count": 410,
   "metadata": {},
   "outputs": [],
   "source": [
    "def evalerror(y, y_pred):\n",
    "    return 'adaboost', adaboost_loss(y, y_pred)"
   ]
  },
  {
   "cell_type": "code",
   "execution_count": 411,
   "metadata": {},
   "outputs": [],
   "source": [
    "xg = XGBClassifier(objective='binary:logitraw', obj=adaboost_loss, min_child_weight=2, max_depth=3, n_estimators=300, reg_lambda=2, gamma=0.1, learning_rate=0.1)"
   ]
  },
  {
   "cell_type": "code",
   "execution_count": 412,
   "metadata": {},
   "outputs": [
    {
     "name": "stdout",
     "output_type": "stream",
     "text": [
      "[0]\tvalidation_0-auc:0.923277\tvalidation_1-auc:0.898447\tvalidation_0-adaboost:0.887862\tvalidation_1-adaboost:0.91535\n",
      "[1]\tvalidation_0-auc:0.936298\tvalidation_1-auc:0.908514\tvalidation_0-adaboost:0.801792\tvalidation_1-adaboost:0.859742\n",
      "[2]\tvalidation_0-auc:0.948522\tvalidation_1-auc:0.92047\tvalidation_0-adaboost:0.734605\tvalidation_1-adaboost:0.796703\n",
      "[3]\tvalidation_0-auc:0.94716\tvalidation_1-auc:0.925261\tvalidation_0-adaboost:0.681604\tvalidation_1-adaboost:0.756472\n",
      "[4]\tvalidation_0-auc:0.962046\tvalidation_1-auc:0.938213\tvalidation_0-adaboost:0.630751\tvalidation_1-adaboost:0.729757\n",
      "[5]\tvalidation_0-auc:0.966848\tvalidation_1-auc:0.941624\tvalidation_0-adaboost:0.59028\tvalidation_1-adaboost:0.67356\n",
      "[6]\tvalidation_0-auc:0.969932\tvalidation_1-auc:0.946145\tvalidation_0-adaboost:0.552614\tvalidation_1-adaboost:0.66776\n",
      "[7]\tvalidation_0-auc:0.971647\tvalidation_1-auc:0.948749\tvalidation_0-adaboost:0.523541\tvalidation_1-adaboost:0.651903\n",
      "[8]\tvalidation_0-auc:0.974026\tvalidation_1-auc:0.949349\tvalidation_0-adaboost:0.495639\tvalidation_1-adaboost:0.664549\n",
      "[9]\tvalidation_0-auc:0.975934\tvalidation_1-auc:0.947414\tvalidation_0-adaboost:0.469747\tvalidation_1-adaboost:0.637438\n",
      "[10]\tvalidation_0-auc:0.978992\tvalidation_1-auc:0.955149\tvalidation_0-adaboost:0.443603\tvalidation_1-adaboost:0.587938\n",
      "[11]\tvalidation_0-auc:0.980753\tvalidation_1-auc:0.95736\tvalidation_0-adaboost:0.422904\tvalidation_1-adaboost:0.566041\n",
      "[12]\tvalidation_0-auc:0.981999\tvalidation_1-auc:0.960215\tvalidation_0-adaboost:0.405291\tvalidation_1-adaboost:0.558978\n",
      "[13]\tvalidation_0-auc:0.983317\tvalidation_1-auc:0.96307\tvalidation_0-adaboost:0.387386\tvalidation_1-adaboost:0.536833\n",
      "[14]\tvalidation_0-auc:0.984711\tvalidation_1-auc:0.963309\tvalidation_0-adaboost:0.370886\tvalidation_1-adaboost:0.506918\n",
      "[15]\tvalidation_0-auc:0.985981\tvalidation_1-auc:0.965898\tvalidation_0-adaboost:0.35571\tvalidation_1-adaboost:0.49555\n",
      "[16]\tvalidation_0-auc:0.987031\tvalidation_1-auc:0.968186\tvalidation_0-adaboost:0.342398\tvalidation_1-adaboost:0.466323\n",
      "[17]\tvalidation_0-auc:0.987812\tvalidation_1-auc:0.969225\tvalidation_0-adaboost:0.330502\tvalidation_1-adaboost:0.461927\n",
      "[18]\tvalidation_0-auc:0.988371\tvalidation_1-auc:0.969947\tvalidation_0-adaboost:0.319466\tvalidation_1-adaboost:0.444329\n",
      "[19]\tvalidation_0-auc:0.988813\tvalidation_1-auc:0.971149\tvalidation_0-adaboost:0.30975\tvalidation_1-adaboost:0.427775\n",
      "[20]\tvalidation_0-auc:0.989107\tvalidation_1-auc:0.970618\tvalidation_0-adaboost:0.301061\tvalidation_1-adaboost:0.420556\n",
      "[21]\tvalidation_0-auc:0.989748\tvalidation_1-auc:0.97298\tvalidation_0-adaboost:0.291493\tvalidation_1-adaboost:0.407858\n",
      "[22]\tvalidation_0-auc:0.989998\tvalidation_1-auc:0.973108\tvalidation_0-adaboost:0.28437\tvalidation_1-adaboost:0.396832\n",
      "[23]\tvalidation_0-auc:0.99038\tvalidation_1-auc:0.974013\tvalidation_0-adaboost:0.27729\tvalidation_1-adaboost:0.389136\n",
      "[24]\tvalidation_0-auc:0.990674\tvalidation_1-auc:0.973512\tvalidation_0-adaboost:0.270811\tvalidation_1-adaboost:0.376349\n",
      "[25]\tvalidation_0-auc:0.991024\tvalidation_1-auc:0.974254\tvalidation_0-adaboost:0.264172\tvalidation_1-adaboost:0.36964\n",
      "[26]\tvalidation_0-auc:0.991679\tvalidation_1-auc:0.975532\tvalidation_0-adaboost:0.254984\tvalidation_1-adaboost:0.359506\n",
      "[27]\tvalidation_0-auc:0.991938\tvalidation_1-auc:0.975534\tvalidation_0-adaboost:0.249486\tvalidation_1-adaboost:0.3487\n",
      "[28]\tvalidation_0-auc:0.992263\tvalidation_1-auc:0.97635\tvalidation_0-adaboost:0.244042\tvalidation_1-adaboost:0.342282\n",
      "[29]\tvalidation_0-auc:0.992566\tvalidation_1-auc:0.977243\tvalidation_0-adaboost:0.238402\tvalidation_1-adaboost:0.338133\n",
      "[30]\tvalidation_0-auc:0.993043\tvalidation_1-auc:0.977466\tvalidation_0-adaboost:0.231048\tvalidation_1-adaboost:0.333569\n",
      "[31]\tvalidation_0-auc:0.993264\tvalidation_1-auc:0.977026\tvalidation_0-adaboost:0.22672\tvalidation_1-adaboost:0.326471\n",
      "[32]\tvalidation_0-auc:0.993443\tvalidation_1-auc:0.976912\tvalidation_0-adaboost:0.222897\tvalidation_1-adaboost:0.323837\n",
      "[33]\tvalidation_0-auc:0.993679\tvalidation_1-auc:0.978257\tvalidation_0-adaboost:0.218419\tvalidation_1-adaboost:0.3158\n",
      "[34]\tvalidation_0-auc:0.993932\tvalidation_1-auc:0.978799\tvalidation_0-adaboost:0.213741\tvalidation_1-adaboost:0.31168\n",
      "[35]\tvalidation_0-auc:0.99418\tvalidation_1-auc:0.978292\tvalidation_0-adaboost:0.209654\tvalidation_1-adaboost:0.30935\n",
      "[36]\tvalidation_0-auc:0.994409\tvalidation_1-auc:0.978947\tvalidation_0-adaboost:0.204885\tvalidation_1-adaboost:0.304104\n",
      "[37]\tvalidation_0-auc:0.994556\tvalidation_1-auc:0.979207\tvalidation_0-adaboost:0.201855\tvalidation_1-adaboost:0.300475\n",
      "[38]\tvalidation_0-auc:0.99466\tvalidation_1-auc:0.9793\tvalidation_0-adaboost:0.198997\tvalidation_1-adaboost:0.300245\n",
      "[39]\tvalidation_0-auc:0.99487\tvalidation_1-auc:0.979465\tvalidation_0-adaboost:0.195123\tvalidation_1-adaboost:0.301213\n",
      "[40]\tvalidation_0-auc:0.994988\tvalidation_1-auc:0.979636\tvalidation_0-adaboost:0.192397\tvalidation_1-adaboost:0.30156\n",
      "[41]\tvalidation_0-auc:0.995131\tvalidation_1-auc:0.97988\tvalidation_0-adaboost:0.189529\tvalidation_1-adaboost:0.299114\n",
      "[42]\tvalidation_0-auc:0.995224\tvalidation_1-auc:0.980175\tvalidation_0-adaboost:0.18701\tvalidation_1-adaboost:0.296189\n",
      "[43]\tvalidation_0-auc:0.995387\tvalidation_1-auc:0.980835\tvalidation_0-adaboost:0.183303\tvalidation_1-adaboost:0.29364\n",
      "[44]\tvalidation_0-auc:0.99551\tvalidation_1-auc:0.980512\tvalidation_0-adaboost:0.180814\tvalidation_1-adaboost:0.295844\n",
      "[45]\tvalidation_0-auc:0.995628\tvalidation_1-auc:0.980456\tvalidation_0-adaboost:0.178082\tvalidation_1-adaboost:0.296293\n",
      "[46]\tvalidation_0-auc:0.995798\tvalidation_1-auc:0.980833\tvalidation_0-adaboost:0.174405\tvalidation_1-adaboost:0.293346\n",
      "[47]\tvalidation_0-auc:0.995907\tvalidation_1-auc:0.980833\tvalidation_0-adaboost:0.172259\tvalidation_1-adaboost:0.296087\n",
      "[48]\tvalidation_0-auc:0.995975\tvalidation_1-auc:0.980944\tvalidation_0-adaboost:0.170224\tvalidation_1-adaboost:0.294378\n",
      "[49]\tvalidation_0-auc:0.996072\tvalidation_1-auc:0.981171\tvalidation_0-adaboost:0.16782\tvalidation_1-adaboost:0.294776\n",
      "[50]\tvalidation_0-auc:0.996196\tvalidation_1-auc:0.981195\tvalidation_0-adaboost:0.165363\tvalidation_1-adaboost:0.296495\n",
      "[51]\tvalidation_0-auc:0.996293\tvalidation_1-auc:0.981218\tvalidation_0-adaboost:0.16336\tvalidation_1-adaboost:0.295302\n",
      "[52]\tvalidation_0-auc:0.996357\tvalidation_1-auc:0.981091\tvalidation_0-adaboost:0.161783\tvalidation_1-adaboost:0.290673\n",
      "[53]\tvalidation_0-auc:0.996437\tvalidation_1-auc:0.981266\tvalidation_0-adaboost:0.159998\tvalidation_1-adaboost:0.29097\n",
      "[54]\tvalidation_0-auc:0.99654\tvalidation_1-auc:0.981908\tvalidation_0-adaboost:0.157623\tvalidation_1-adaboost:0.287737\n",
      "[55]\tvalidation_0-auc:0.996578\tvalidation_1-auc:0.981684\tvalidation_0-adaboost:0.156426\tvalidation_1-adaboost:0.288524\n",
      "[56]\tvalidation_0-auc:0.996636\tvalidation_1-auc:0.982129\tvalidation_0-adaboost:0.155165\tvalidation_1-adaboost:0.285603\n",
      "[57]\tvalidation_0-auc:0.996731\tvalidation_1-auc:0.982659\tvalidation_0-adaboost:0.153062\tvalidation_1-adaboost:0.281884\n",
      "[58]\tvalidation_0-auc:0.996772\tvalidation_1-auc:0.982533\tvalidation_0-adaboost:0.151721\tvalidation_1-adaboost:0.278902\n",
      "[59]\tvalidation_0-auc:0.996829\tvalidation_1-auc:0.982743\tvalidation_0-adaboost:0.150115\tvalidation_1-adaboost:0.278904\n",
      "[60]\tvalidation_0-auc:0.996947\tvalidation_1-auc:0.98303\tvalidation_0-adaboost:0.147802\tvalidation_1-adaboost:0.278139\n",
      "[61]\tvalidation_0-auc:0.996989\tvalidation_1-auc:0.982845\tvalidation_0-adaboost:0.146672\tvalidation_1-adaboost:0.278733\n",
      "[62]\tvalidation_0-auc:0.997063\tvalidation_1-auc:0.983159\tvalidation_0-adaboost:0.144841\tvalidation_1-adaboost:0.277204\n",
      "[63]\tvalidation_0-auc:0.997122\tvalidation_1-auc:0.982873\tvalidation_0-adaboost:0.143416\tvalidation_1-adaboost:0.279501\n",
      "[64]\tvalidation_0-auc:0.997161\tvalidation_1-auc:0.982926\tvalidation_0-adaboost:0.142259\tvalidation_1-adaboost:0.281168\n",
      "[65]\tvalidation_0-auc:0.997232\tvalidation_1-auc:0.983034\tvalidation_0-adaboost:0.140712\tvalidation_1-adaboost:0.282885\n",
      "[66]\tvalidation_0-auc:0.997275\tvalidation_1-auc:0.98319\tvalidation_0-adaboost:0.139637\tvalidation_1-adaboost:0.28112\n",
      "[67]\tvalidation_0-auc:0.997338\tvalidation_1-auc:0.983007\tvalidation_0-adaboost:0.138152\tvalidation_1-adaboost:0.281786\n",
      "[68]\tvalidation_0-auc:0.997375\tvalidation_1-auc:0.982959\tvalidation_0-adaboost:0.137208\tvalidation_1-adaboost:0.284291\n",
      "[69]\tvalidation_0-auc:0.997418\tvalidation_1-auc:0.982816\tvalidation_0-adaboost:0.136231\tvalidation_1-adaboost:0.286903\n"
     ]
    },
    {
     "name": "stdout",
     "output_type": "stream",
     "text": [
      "[70]\tvalidation_0-auc:0.997474\tvalidation_1-auc:0.982521\tvalidation_0-adaboost:0.13477\tvalidation_1-adaboost:0.289441\n",
      "[71]\tvalidation_0-auc:0.997499\tvalidation_1-auc:0.982386\tvalidation_0-adaboost:0.134049\tvalidation_1-adaboost:0.29361\n",
      "[72]\tvalidation_0-auc:0.997569\tvalidation_1-auc:0.982899\tvalidation_0-adaboost:0.132454\tvalidation_1-adaboost:0.28968\n",
      "[73]\tvalidation_0-auc:0.997594\tvalidation_1-auc:0.983057\tvalidation_0-adaboost:0.131914\tvalidation_1-adaboost:0.288656\n",
      "[74]\tvalidation_0-auc:0.997646\tvalidation_1-auc:0.982998\tvalidation_0-adaboost:0.13067\tvalidation_1-adaboost:0.291687\n",
      "[75]\tvalidation_0-auc:0.997672\tvalidation_1-auc:0.983101\tvalidation_0-adaboost:0.129971\tvalidation_1-adaboost:0.293694\n",
      "[76]\tvalidation_0-auc:0.997705\tvalidation_1-auc:0.983272\tvalidation_0-adaboost:0.129115\tvalidation_1-adaboost:0.295954\n",
      "[77]\tvalidation_0-auc:0.997744\tvalidation_1-auc:0.983393\tvalidation_0-adaboost:0.128015\tvalidation_1-adaboost:0.292229\n",
      "[78]\tvalidation_0-auc:0.997802\tvalidation_1-auc:0.983449\tvalidation_0-adaboost:0.126508\tvalidation_1-adaboost:0.293133\n",
      "[79]\tvalidation_0-auc:0.997823\tvalidation_1-auc:0.98349\tvalidation_0-adaboost:0.125914\tvalidation_1-adaboost:0.293942\n",
      "[80]\tvalidation_0-auc:0.997848\tvalidation_1-auc:0.983358\tvalidation_0-adaboost:0.1252\tvalidation_1-adaboost:0.294757\n",
      "[81]\tvalidation_0-auc:0.997893\tvalidation_1-auc:0.983243\tvalidation_0-adaboost:0.12405\tvalidation_1-adaboost:0.297146\n",
      "[82]\tvalidation_0-auc:0.99796\tvalidation_1-auc:0.98346\tvalidation_0-adaboost:0.12209\tvalidation_1-adaboost:0.296482\n",
      "[83]\tvalidation_0-auc:0.997978\tvalidation_1-auc:0.983527\tvalidation_0-adaboost:0.121625\tvalidation_1-adaboost:0.299604\n",
      "[84]\tvalidation_0-auc:0.998022\tvalidation_1-auc:0.983615\tvalidation_0-adaboost:0.120025\tvalidation_1-adaboost:0.300509\n",
      "[85]\tvalidation_0-auc:0.998053\tvalidation_1-auc:0.98379\tvalidation_0-adaboost:0.119097\tvalidation_1-adaboost:0.301435\n",
      "[86]\tvalidation_0-auc:0.998079\tvalidation_1-auc:0.983833\tvalidation_0-adaboost:0.118152\tvalidation_1-adaboost:0.295189\n",
      "[87]\tvalidation_0-auc:0.998105\tvalidation_1-auc:0.983652\tvalidation_0-adaboost:0.117356\tvalidation_1-adaboost:0.303721\n",
      "[88]\tvalidation_0-auc:0.998146\tvalidation_1-auc:0.983342\tvalidation_0-adaboost:0.116226\tvalidation_1-adaboost:0.311874\n",
      "[89]\tvalidation_0-auc:0.998165\tvalidation_1-auc:0.983462\tvalidation_0-adaboost:0.115741\tvalidation_1-adaboost:0.318661\n",
      "[90]\tvalidation_0-auc:0.99819\tvalidation_1-auc:0.983564\tvalidation_0-adaboost:0.114978\tvalidation_1-adaboost:0.321775\n",
      "[91]\tvalidation_0-auc:0.998221\tvalidation_1-auc:0.9836\tvalidation_0-adaboost:0.113974\tvalidation_1-adaboost:0.322063\n",
      "[92]\tvalidation_0-auc:0.998245\tvalidation_1-auc:0.983624\tvalidation_0-adaboost:0.11332\tvalidation_1-adaboost:0.322177\n",
      "[93]\tvalidation_0-auc:0.998258\tvalidation_1-auc:0.983724\tvalidation_0-adaboost:0.112803\tvalidation_1-adaboost:0.323562\n",
      "[94]\tvalidation_0-auc:0.998297\tvalidation_1-auc:0.98362\tvalidation_0-adaboost:0.111925\tvalidation_1-adaboost:0.318329\n",
      "[95]\tvalidation_0-auc:0.998336\tvalidation_1-auc:0.983422\tvalidation_0-adaboost:0.110763\tvalidation_1-adaboost:0.324984\n",
      "[96]\tvalidation_0-auc:0.998367\tvalidation_1-auc:0.983426\tvalidation_0-adaboost:0.109606\tvalidation_1-adaboost:0.327709\n",
      "[97]\tvalidation_0-auc:0.998385\tvalidation_1-auc:0.983581\tvalidation_0-adaboost:0.109127\tvalidation_1-adaboost:0.331763\n",
      "[98]\tvalidation_0-auc:0.998413\tvalidation_1-auc:0.98337\tvalidation_0-adaboost:0.108244\tvalidation_1-adaboost:0.335035\n",
      "[99]\tvalidation_0-auc:0.99845\tvalidation_1-auc:0.983426\tvalidation_0-adaboost:0.106977\tvalidation_1-adaboost:0.334296\n",
      "[100]\tvalidation_0-auc:0.998472\tvalidation_1-auc:0.983456\tvalidation_0-adaboost:0.106346\tvalidation_1-adaboost:0.335254\n",
      "[101]\tvalidation_0-auc:0.998494\tvalidation_1-auc:0.983489\tvalidation_0-adaboost:0.105635\tvalidation_1-adaboost:0.335964\n",
      "[102]\tvalidation_0-auc:0.998527\tvalidation_1-auc:0.983652\tvalidation_0-adaboost:0.104519\tvalidation_1-adaboost:0.335904\n",
      "[103]\tvalidation_0-auc:0.99854\tvalidation_1-auc:0.983885\tvalidation_0-adaboost:0.104173\tvalidation_1-adaboost:0.330014\n",
      "[104]\tvalidation_0-auc:0.998553\tvalidation_1-auc:0.983719\tvalidation_0-adaboost:0.103597\tvalidation_1-adaboost:0.336748\n",
      "[105]\tvalidation_0-auc:0.998569\tvalidation_1-auc:0.983713\tvalidation_0-adaboost:0.103123\tvalidation_1-adaboost:0.342932\n",
      "[106]\tvalidation_0-auc:0.998586\tvalidation_1-auc:0.983921\tvalidation_0-adaboost:0.102329\tvalidation_1-adaboost:0.34096\n",
      "[107]\tvalidation_0-auc:0.998625\tvalidation_1-auc:0.984127\tvalidation_0-adaboost:0.100969\tvalidation_1-adaboost:0.344315\n",
      "[108]\tvalidation_0-auc:0.99863\tvalidation_1-auc:0.984159\tvalidation_0-adaboost:0.100818\tvalidation_1-adaboost:0.349565\n",
      "[109]\tvalidation_0-auc:0.998664\tvalidation_1-auc:0.98418\tvalidation_0-adaboost:0.099699\tvalidation_1-adaboost:0.350366\n",
      "[110]\tvalidation_0-auc:0.998691\tvalidation_1-auc:0.984336\tvalidation_0-adaboost:0.098815\tvalidation_1-adaboost:0.350454\n",
      "[111]\tvalidation_0-auc:0.998724\tvalidation_1-auc:0.984049\tvalidation_0-adaboost:0.097762\tvalidation_1-adaboost:0.351985\n",
      "[112]\tvalidation_0-auc:0.998735\tvalidation_1-auc:0.983819\tvalidation_0-adaboost:0.097403\tvalidation_1-adaboost:0.369233\n",
      "[113]\tvalidation_0-auc:0.998752\tvalidation_1-auc:0.98389\tvalidation_0-adaboost:0.096617\tvalidation_1-adaboost:0.369254\n",
      "[114]\tvalidation_0-auc:0.998777\tvalidation_1-auc:0.983948\tvalidation_0-adaboost:0.095781\tvalidation_1-adaboost:0.36744\n",
      "[115]\tvalidation_0-auc:0.998784\tvalidation_1-auc:0.983991\tvalidation_0-adaboost:0.095429\tvalidation_1-adaboost:0.379492\n",
      "[116]\tvalidation_0-auc:0.998799\tvalidation_1-auc:0.984094\tvalidation_0-adaboost:0.094828\tvalidation_1-adaboost:0.381647\n",
      "[117]\tvalidation_0-auc:0.998831\tvalidation_1-auc:0.98412\tvalidation_0-adaboost:0.09365\tvalidation_1-adaboost:0.384581\n",
      "[118]\tvalidation_0-auc:0.998857\tvalidation_1-auc:0.983903\tvalidation_0-adaboost:0.092782\tvalidation_1-adaboost:0.388847\n",
      "[119]\tvalidation_0-auc:0.998863\tvalidation_1-auc:0.983916\tvalidation_0-adaboost:0.092638\tvalidation_1-adaboost:0.391469\n",
      "[120]\tvalidation_0-auc:0.998881\tvalidation_1-auc:0.984073\tvalidation_0-adaboost:0.091934\tvalidation_1-adaboost:0.391669\n",
      "[121]\tvalidation_0-auc:0.998897\tvalidation_1-auc:0.984077\tvalidation_0-adaboost:0.091299\tvalidation_1-adaboost:0.394165\n",
      "[122]\tvalidation_0-auc:0.998918\tvalidation_1-auc:0.984211\tvalidation_0-adaboost:0.09064\tvalidation_1-adaboost:0.397298\n",
      "[123]\tvalidation_0-auc:0.998936\tvalidation_1-auc:0.984299\tvalidation_0-adaboost:0.089883\tvalidation_1-adaboost:0.400116\n",
      "[124]\tvalidation_0-auc:0.99896\tvalidation_1-auc:0.984442\tvalidation_0-adaboost:0.088969\tvalidation_1-adaboost:0.402016\n",
      "[125]\tvalidation_0-auc:0.998971\tvalidation_1-auc:0.984575\tvalidation_0-adaboost:0.088499\tvalidation_1-adaboost:0.400314\n",
      "[126]\tvalidation_0-auc:0.998981\tvalidation_1-auc:0.984687\tvalidation_0-adaboost:0.088137\tvalidation_1-adaboost:0.398979\n",
      "[127]\tvalidation_0-auc:0.998989\tvalidation_1-auc:0.984699\tvalidation_0-adaboost:0.087765\tvalidation_1-adaboost:0.413784\n",
      "[128]\tvalidation_0-auc:0.999\tvalidation_1-auc:0.984749\tvalidation_0-adaboost:0.087244\tvalidation_1-adaboost:0.413961\n",
      "[129]\tvalidation_0-auc:0.999013\tvalidation_1-auc:0.984688\tvalidation_0-adaboost:0.086669\tvalidation_1-adaboost:0.414426\n",
      "[130]\tvalidation_0-auc:0.999015\tvalidation_1-auc:0.984444\tvalidation_0-adaboost:0.086375\tvalidation_1-adaboost:0.438871\n",
      "[131]\tvalidation_0-auc:0.999037\tvalidation_1-auc:0.98443\tvalidation_0-adaboost:0.085524\tvalidation_1-adaboost:0.440547\n",
      "[132]\tvalidation_0-auc:0.999043\tvalidation_1-auc:0.984499\tvalidation_0-adaboost:0.085202\tvalidation_1-adaboost:0.440967\n",
      "[133]\tvalidation_0-auc:0.999066\tvalidation_1-auc:0.984186\tvalidation_0-adaboost:0.084302\tvalidation_1-adaboost:0.465157\n",
      "[134]\tvalidation_0-auc:0.999089\tvalidation_1-auc:0.984102\tvalidation_0-adaboost:0.083374\tvalidation_1-adaboost:0.472064\n",
      "[135]\tvalidation_0-auc:0.999094\tvalidation_1-auc:0.9841\tvalidation_0-adaboost:0.083133\tvalidation_1-adaboost:0.471724\n",
      "[136]\tvalidation_0-auc:0.999106\tvalidation_1-auc:0.984196\tvalidation_0-adaboost:0.082565\tvalidation_1-adaboost:0.467244\n",
      "[137]\tvalidation_0-auc:0.999128\tvalidation_1-auc:0.984273\tvalidation_0-adaboost:0.081773\tvalidation_1-adaboost:0.471315\n",
      "[138]\tvalidation_0-auc:0.999141\tvalidation_1-auc:0.984396\tvalidation_0-adaboost:0.081155\tvalidation_1-adaboost:0.472478\n"
     ]
    },
    {
     "name": "stdout",
     "output_type": "stream",
     "text": [
      "[139]\tvalidation_0-auc:0.999161\tvalidation_1-auc:0.98445\tvalidation_0-adaboost:0.080458\tvalidation_1-adaboost:0.472709\n",
      "[140]\tvalidation_0-auc:0.999169\tvalidation_1-auc:0.984258\tvalidation_0-adaboost:0.080008\tvalidation_1-adaboost:0.478035\n",
      "[141]\tvalidation_0-auc:0.999183\tvalidation_1-auc:0.984268\tvalidation_0-adaboost:0.079414\tvalidation_1-adaboost:0.480395\n",
      "[142]\tvalidation_0-auc:0.999195\tvalidation_1-auc:0.984325\tvalidation_0-adaboost:0.07887\tvalidation_1-adaboost:0.479601\n",
      "[143]\tvalidation_0-auc:0.999205\tvalidation_1-auc:0.984245\tvalidation_0-adaboost:0.078458\tvalidation_1-adaboost:0.470212\n",
      "[144]\tvalidation_0-auc:0.999214\tvalidation_1-auc:0.98419\tvalidation_0-adaboost:0.077954\tvalidation_1-adaboost:0.474532\n",
      "[145]\tvalidation_0-auc:0.999219\tvalidation_1-auc:0.984327\tvalidation_0-adaboost:0.077773\tvalidation_1-adaboost:0.468251\n",
      "[146]\tvalidation_0-auc:0.999219\tvalidation_1-auc:0.984443\tvalidation_0-adaboost:0.077545\tvalidation_1-adaboost:0.47061\n",
      "[147]\tvalidation_0-auc:0.999227\tvalidation_1-auc:0.984479\tvalidation_0-adaboost:0.077211\tvalidation_1-adaboost:0.470082\n",
      "[148]\tvalidation_0-auc:0.999236\tvalidation_1-auc:0.984577\tvalidation_0-adaboost:0.076799\tvalidation_1-adaboost:0.468649\n",
      "[149]\tvalidation_0-auc:0.999243\tvalidation_1-auc:0.984679\tvalidation_0-adaboost:0.076525\tvalidation_1-adaboost:0.46654\n",
      "[150]\tvalidation_0-auc:0.999256\tvalidation_1-auc:0.984691\tvalidation_0-adaboost:0.075921\tvalidation_1-adaboost:0.469097\n",
      "[151]\tvalidation_0-auc:0.999263\tvalidation_1-auc:0.984681\tvalidation_0-adaboost:0.075677\tvalidation_1-adaboost:0.468329\n",
      "[152]\tvalidation_0-auc:0.999274\tvalidation_1-auc:0.984738\tvalidation_0-adaboost:0.07522\tvalidation_1-adaboost:0.467236\n",
      "[153]\tvalidation_0-auc:0.999284\tvalidation_1-auc:0.984835\tvalidation_0-adaboost:0.07478\tvalidation_1-adaboost:0.466915\n",
      "[154]\tvalidation_0-auc:0.999293\tvalidation_1-auc:0.984656\tvalidation_0-adaboost:0.074331\tvalidation_1-adaboost:0.469719\n",
      "[155]\tvalidation_0-auc:0.999298\tvalidation_1-auc:0.984736\tvalidation_0-adaboost:0.074065\tvalidation_1-adaboost:0.464428\n",
      "[156]\tvalidation_0-auc:0.999305\tvalidation_1-auc:0.984864\tvalidation_0-adaboost:0.073709\tvalidation_1-adaboost:0.463124\n",
      "[157]\tvalidation_0-auc:0.999313\tvalidation_1-auc:0.985016\tvalidation_0-adaboost:0.0733\tvalidation_1-adaboost:0.458905\n",
      "[158]\tvalidation_0-auc:0.999322\tvalidation_1-auc:0.985142\tvalidation_0-adaboost:0.072901\tvalidation_1-adaboost:0.457004\n",
      "[159]\tvalidation_0-auc:0.999333\tvalidation_1-auc:0.985148\tvalidation_0-adaboost:0.072398\tvalidation_1-adaboost:0.456267\n",
      "[160]\tvalidation_0-auc:0.999356\tvalidation_1-auc:0.985132\tvalidation_0-adaboost:0.07138\tvalidation_1-adaboost:0.461501\n",
      "[161]\tvalidation_0-auc:0.999366\tvalidation_1-auc:0.985231\tvalidation_0-adaboost:0.070884\tvalidation_1-adaboost:0.464964\n",
      "[162]\tvalidation_0-auc:0.999379\tvalidation_1-auc:0.985358\tvalidation_0-adaboost:0.070442\tvalidation_1-adaboost:0.462838\n",
      "[163]\tvalidation_0-auc:0.999393\tvalidation_1-auc:0.98503\tvalidation_0-adaboost:0.069791\tvalidation_1-adaboost:0.466032\n",
      "[164]\tvalidation_0-auc:0.999406\tvalidation_1-auc:0.985004\tvalidation_0-adaboost:0.069216\tvalidation_1-adaboost:0.468421\n",
      "[165]\tvalidation_0-auc:0.99941\tvalidation_1-auc:0.984773\tvalidation_0-adaboost:0.068965\tvalidation_1-adaboost:0.49376\n",
      "[166]\tvalidation_0-auc:0.999415\tvalidation_1-auc:0.984832\tvalidation_0-adaboost:0.068772\tvalidation_1-adaboost:0.494677\n",
      "[167]\tvalidation_0-auc:0.999415\tvalidation_1-auc:0.984849\tvalidation_0-adaboost:0.06857\tvalidation_1-adaboost:0.475002\n",
      "[168]\tvalidation_0-auc:0.999425\tvalidation_1-auc:0.984753\tvalidation_0-adaboost:0.068075\tvalidation_1-adaboost:0.47749\n",
      "[169]\tvalidation_0-auc:0.999434\tvalidation_1-auc:0.984857\tvalidation_0-adaboost:0.067677\tvalidation_1-adaboost:0.475949\n",
      "[170]\tvalidation_0-auc:0.99944\tvalidation_1-auc:0.984836\tvalidation_0-adaboost:0.067338\tvalidation_1-adaboost:0.480412\n",
      "[171]\tvalidation_0-auc:0.999446\tvalidation_1-auc:0.984867\tvalidation_0-adaboost:0.067112\tvalidation_1-adaboost:0.481607\n",
      "[172]\tvalidation_0-auc:0.999452\tvalidation_1-auc:0.984883\tvalidation_0-adaboost:0.066875\tvalidation_1-adaboost:0.480524\n",
      "[173]\tvalidation_0-auc:0.999462\tvalidation_1-auc:0.984833\tvalidation_0-adaboost:0.066256\tvalidation_1-adaboost:0.483214\n",
      "[174]\tvalidation_0-auc:0.999466\tvalidation_1-auc:0.984873\tvalidation_0-adaboost:0.066041\tvalidation_1-adaboost:0.476956\n",
      "[175]\tvalidation_0-auc:0.999478\tvalidation_1-auc:0.98483\tvalidation_0-adaboost:0.0652\tvalidation_1-adaboost:0.479456\n",
      "[176]\tvalidation_0-auc:0.999481\tvalidation_1-auc:0.984709\tvalidation_0-adaboost:0.064899\tvalidation_1-adaboost:0.502633\n",
      "[177]\tvalidation_0-auc:0.999486\tvalidation_1-auc:0.984777\tvalidation_0-adaboost:0.064604\tvalidation_1-adaboost:0.502804\n",
      "[178]\tvalidation_0-auc:0.999489\tvalidation_1-auc:0.984734\tvalidation_0-adaboost:0.064354\tvalidation_1-adaboost:0.506455\n",
      "[179]\tvalidation_0-auc:0.999493\tvalidation_1-auc:0.984742\tvalidation_0-adaboost:0.064035\tvalidation_1-adaboost:0.509285\n",
      "[180]\tvalidation_0-auc:0.999498\tvalidation_1-auc:0.984857\tvalidation_0-adaboost:0.063771\tvalidation_1-adaboost:0.507329\n",
      "[181]\tvalidation_0-auc:0.999507\tvalidation_1-auc:0.984985\tvalidation_0-adaboost:0.06354\tvalidation_1-adaboost:0.507432\n",
      "[182]\tvalidation_0-auc:0.999511\tvalidation_1-auc:0.985005\tvalidation_0-adaboost:0.063229\tvalidation_1-adaboost:0.505775\n",
      "[183]\tvalidation_0-auc:0.999519\tvalidation_1-auc:0.985023\tvalidation_0-adaboost:0.062923\tvalidation_1-adaboost:0.50897\n",
      "[184]\tvalidation_0-auc:0.999529\tvalidation_1-auc:0.985216\tvalidation_0-adaboost:0.062268\tvalidation_1-adaboost:0.502549\n",
      "[185]\tvalidation_0-auc:0.999541\tvalidation_1-auc:0.985195\tvalidation_0-adaboost:0.061827\tvalidation_1-adaboost:0.505061\n",
      "[186]\tvalidation_0-auc:0.999545\tvalidation_1-auc:0.985223\tvalidation_0-adaboost:0.061543\tvalidation_1-adaboost:0.516948\n",
      "[187]\tvalidation_0-auc:0.999554\tvalidation_1-auc:0.985145\tvalidation_0-adaboost:0.061033\tvalidation_1-adaboost:0.497978\n",
      "[188]\tvalidation_0-auc:0.999556\tvalidation_1-auc:0.985211\tvalidation_0-adaboost:0.060967\tvalidation_1-adaboost:0.498237\n",
      "[189]\tvalidation_0-auc:0.999564\tvalidation_1-auc:0.985301\tvalidation_0-adaboost:0.060629\tvalidation_1-adaboost:0.496502\n",
      "[190]\tvalidation_0-auc:0.999568\tvalidation_1-auc:0.98529\tvalidation_0-adaboost:0.060349\tvalidation_1-adaboost:0.497167\n",
      "[191]\tvalidation_0-auc:0.999571\tvalidation_1-auc:0.985176\tvalidation_0-adaboost:0.06009\tvalidation_1-adaboost:0.51347\n",
      "[192]\tvalidation_0-auc:0.999575\tvalidation_1-auc:0.985232\tvalidation_0-adaboost:0.059906\tvalidation_1-adaboost:0.513327\n",
      "[193]\tvalidation_0-auc:0.999584\tvalidation_1-auc:0.985223\tvalidation_0-adaboost:0.059519\tvalidation_1-adaboost:0.514238\n",
      "[194]\tvalidation_0-auc:0.999588\tvalidation_1-auc:0.985208\tvalidation_0-adaboost:0.059187\tvalidation_1-adaboost:0.515985\n",
      "[195]\tvalidation_0-auc:0.999596\tvalidation_1-auc:0.984944\tvalidation_0-adaboost:0.058751\tvalidation_1-adaboost:0.503293\n",
      "[196]\tvalidation_0-auc:0.999601\tvalidation_1-auc:0.984968\tvalidation_0-adaboost:0.058434\tvalidation_1-adaboost:0.503816\n",
      "[197]\tvalidation_0-auc:0.999607\tvalidation_1-auc:0.985044\tvalidation_0-adaboost:0.058127\tvalidation_1-adaboost:0.507653\n",
      "[198]\tvalidation_0-auc:0.999617\tvalidation_1-auc:0.985087\tvalidation_0-adaboost:0.057628\tvalidation_1-adaboost:0.509713\n",
      "[199]\tvalidation_0-auc:0.999621\tvalidation_1-auc:0.985072\tvalidation_0-adaboost:0.057349\tvalidation_1-adaboost:0.509597\n",
      "[200]\tvalidation_0-auc:0.999624\tvalidation_1-auc:0.985075\tvalidation_0-adaboost:0.057154\tvalidation_1-adaboost:0.511686\n",
      "[201]\tvalidation_0-auc:0.999626\tvalidation_1-auc:0.985121\tvalidation_0-adaboost:0.056944\tvalidation_1-adaboost:0.500951\n",
      "[202]\tvalidation_0-auc:0.99963\tvalidation_1-auc:0.985245\tvalidation_0-adaboost:0.056598\tvalidation_1-adaboost:0.499911\n",
      "[203]\tvalidation_0-auc:0.999633\tvalidation_1-auc:0.98516\tvalidation_0-adaboost:0.056235\tvalidation_1-adaboost:0.508227\n",
      "[204]\tvalidation_0-auc:0.999637\tvalidation_1-auc:0.985176\tvalidation_0-adaboost:0.056053\tvalidation_1-adaboost:0.508884\n",
      "[205]\tvalidation_0-auc:0.999642\tvalidation_1-auc:0.985248\tvalidation_0-adaboost:0.055833\tvalidation_1-adaboost:0.512507\n",
      "[206]\tvalidation_0-auc:0.999651\tvalidation_1-auc:0.98523\tvalidation_0-adaboost:0.055282\tvalidation_1-adaboost:0.508107\n",
      "[207]\tvalidation_0-auc:0.999653\tvalidation_1-auc:0.985261\tvalidation_0-adaboost:0.055084\tvalidation_1-adaboost:0.509345\n"
     ]
    },
    {
     "name": "stdout",
     "output_type": "stream",
     "text": [
      "[208]\tvalidation_0-auc:0.999656\tvalidation_1-auc:0.985306\tvalidation_0-adaboost:0.054857\tvalidation_1-adaboost:0.514751\n",
      "[209]\tvalidation_0-auc:0.999662\tvalidation_1-auc:0.985349\tvalidation_0-adaboost:0.054376\tvalidation_1-adaboost:0.526801\n",
      "[210]\tvalidation_0-auc:0.999667\tvalidation_1-auc:0.985294\tvalidation_0-adaboost:0.054067\tvalidation_1-adaboost:0.52884\n",
      "[211]\tvalidation_0-auc:0.99967\tvalidation_1-auc:0.985342\tvalidation_0-adaboost:0.053908\tvalidation_1-adaboost:0.527287\n",
      "[212]\tvalidation_0-auc:0.999676\tvalidation_1-auc:0.985489\tvalidation_0-adaboost:0.053549\tvalidation_1-adaboost:0.512242\n",
      "[213]\tvalidation_0-auc:0.999684\tvalidation_1-auc:0.985451\tvalidation_0-adaboost:0.053183\tvalidation_1-adaboost:0.514071\n",
      "[214]\tvalidation_0-auc:0.99969\tvalidation_1-auc:0.985401\tvalidation_0-adaboost:0.052792\tvalidation_1-adaboost:0.520202\n",
      "[215]\tvalidation_0-auc:0.999693\tvalidation_1-auc:0.985436\tvalidation_0-adaboost:0.052551\tvalidation_1-adaboost:0.518464\n",
      "[216]\tvalidation_0-auc:0.999702\tvalidation_1-auc:0.98562\tvalidation_0-adaboost:0.052022\tvalidation_1-adaboost:0.517682\n",
      "[217]\tvalidation_0-auc:0.999706\tvalidation_1-auc:0.985612\tvalidation_0-adaboost:0.05165\tvalidation_1-adaboost:0.516712\n",
      "[218]\tvalidation_0-auc:0.999714\tvalidation_1-auc:0.985638\tvalidation_0-adaboost:0.051141\tvalidation_1-adaboost:0.520333\n",
      "[219]\tvalidation_0-auc:0.99972\tvalidation_1-auc:0.985696\tvalidation_0-adaboost:0.050826\tvalidation_1-adaboost:0.518759\n",
      "[220]\tvalidation_0-auc:0.999724\tvalidation_1-auc:0.985693\tvalidation_0-adaboost:0.050618\tvalidation_1-adaboost:0.521281\n",
      "[221]\tvalidation_0-auc:0.999729\tvalidation_1-auc:0.985717\tvalidation_0-adaboost:0.05027\tvalidation_1-adaboost:0.524251\n",
      "[222]\tvalidation_0-auc:0.999734\tvalidation_1-auc:0.985803\tvalidation_0-adaboost:0.049952\tvalidation_1-adaboost:0.527888\n",
      "[223]\tvalidation_0-auc:0.999738\tvalidation_1-auc:0.985776\tvalidation_0-adaboost:0.049651\tvalidation_1-adaboost:0.528388\n",
      "[224]\tvalidation_0-auc:0.999745\tvalidation_1-auc:0.985804\tvalidation_0-adaboost:0.04918\tvalidation_1-adaboost:0.522733\n",
      "[225]\tvalidation_0-auc:0.999753\tvalidation_1-auc:0.9858\tvalidation_0-adaboost:0.048584\tvalidation_1-adaboost:0.528174\n",
      "[226]\tvalidation_0-auc:0.999757\tvalidation_1-auc:0.98581\tvalidation_0-adaboost:0.048282\tvalidation_1-adaboost:0.530122\n",
      "[227]\tvalidation_0-auc:0.99976\tvalidation_1-auc:0.985799\tvalidation_0-adaboost:0.048084\tvalidation_1-adaboost:0.532788\n",
      "[228]\tvalidation_0-auc:0.999769\tvalidation_1-auc:0.985807\tvalidation_0-adaboost:0.047478\tvalidation_1-adaboost:0.541772\n",
      "[229]\tvalidation_0-auc:0.999771\tvalidation_1-auc:0.985861\tvalidation_0-adaboost:0.0473\tvalidation_1-adaboost:0.537939\n",
      "[230]\tvalidation_0-auc:0.999777\tvalidation_1-auc:0.985909\tvalidation_0-adaboost:0.046839\tvalidation_1-adaboost:0.540708\n",
      "[231]\tvalidation_0-auc:0.999782\tvalidation_1-auc:0.985922\tvalidation_0-adaboost:0.046397\tvalidation_1-adaboost:0.547142\n",
      "[232]\tvalidation_0-auc:0.999783\tvalidation_1-auc:0.985887\tvalidation_0-adaboost:0.046236\tvalidation_1-adaboost:0.551656\n",
      "[233]\tvalidation_0-auc:0.999785\tvalidation_1-auc:0.985928\tvalidation_0-adaboost:0.046064\tvalidation_1-adaboost:0.550825\n",
      "[234]\tvalidation_0-auc:0.999791\tvalidation_1-auc:0.985996\tvalidation_0-adaboost:0.045675\tvalidation_1-adaboost:0.551382\n",
      "[235]\tvalidation_0-auc:0.999793\tvalidation_1-auc:0.986043\tvalidation_0-adaboost:0.045496\tvalidation_1-adaboost:0.550537\n",
      "[236]\tvalidation_0-auc:0.999799\tvalidation_1-auc:0.986149\tvalidation_0-adaboost:0.045079\tvalidation_1-adaboost:0.548647\n",
      "[237]\tvalidation_0-auc:0.999804\tvalidation_1-auc:0.98617\tvalidation_0-adaboost:0.044687\tvalidation_1-adaboost:0.562452\n",
      "[238]\tvalidation_0-auc:0.999809\tvalidation_1-auc:0.986163\tvalidation_0-adaboost:0.044302\tvalidation_1-adaboost:0.560585\n",
      "[239]\tvalidation_0-auc:0.999812\tvalidation_1-auc:0.986235\tvalidation_0-adaboost:0.044055\tvalidation_1-adaboost:0.56478\n",
      "[240]\tvalidation_0-auc:0.999815\tvalidation_1-auc:0.986213\tvalidation_0-adaboost:0.043778\tvalidation_1-adaboost:0.550682\n",
      "[241]\tvalidation_0-auc:0.999815\tvalidation_1-auc:0.986258\tvalidation_0-adaboost:0.043758\tvalidation_1-adaboost:0.551805\n",
      "[242]\tvalidation_0-auc:0.999818\tvalidation_1-auc:0.986325\tvalidation_0-adaboost:0.043467\tvalidation_1-adaboost:0.558903\n",
      "[243]\tvalidation_0-auc:0.999823\tvalidation_1-auc:0.98628\tvalidation_0-adaboost:0.043096\tvalidation_1-adaboost:0.560324\n",
      "[244]\tvalidation_0-auc:0.999824\tvalidation_1-auc:0.986317\tvalidation_0-adaboost:0.042984\tvalidation_1-adaboost:0.563355\n",
      "[245]\tvalidation_0-auc:0.999825\tvalidation_1-auc:0.986281\tvalidation_0-adaboost:0.042863\tvalidation_1-adaboost:0.558443\n",
      "[246]\tvalidation_0-auc:0.999829\tvalidation_1-auc:0.986249\tvalidation_0-adaboost:0.042612\tvalidation_1-adaboost:0.561612\n",
      "[247]\tvalidation_0-auc:0.999833\tvalidation_1-auc:0.9862\tvalidation_0-adaboost:0.042332\tvalidation_1-adaboost:0.56592\n",
      "[248]\tvalidation_0-auc:0.999838\tvalidation_1-auc:0.986243\tvalidation_0-adaboost:0.041926\tvalidation_1-adaboost:0.573514\n",
      "[249]\tvalidation_0-auc:0.999839\tvalidation_1-auc:0.98627\tvalidation_0-adaboost:0.041776\tvalidation_1-adaboost:0.584906\n",
      "[250]\tvalidation_0-auc:0.999842\tvalidation_1-auc:0.98626\tvalidation_0-adaboost:0.041466\tvalidation_1-adaboost:0.601599\n",
      "[251]\tvalidation_0-auc:0.999844\tvalidation_1-auc:0.986229\tvalidation_0-adaboost:0.041182\tvalidation_1-adaboost:0.58929\n",
      "[252]\tvalidation_0-auc:0.999847\tvalidation_1-auc:0.986218\tvalidation_0-adaboost:0.040934\tvalidation_1-adaboost:0.600497\n",
      "[253]\tvalidation_0-auc:0.999849\tvalidation_1-auc:0.986173\tvalidation_0-adaboost:0.040785\tvalidation_1-adaboost:0.598915\n",
      "[254]\tvalidation_0-auc:0.999853\tvalidation_1-auc:0.986123\tvalidation_0-adaboost:0.040496\tvalidation_1-adaboost:0.603425\n",
      "[255]\tvalidation_0-auc:0.999854\tvalidation_1-auc:0.986187\tvalidation_0-adaboost:0.040381\tvalidation_1-adaboost:0.60358\n",
      "[256]\tvalidation_0-auc:0.999857\tvalidation_1-auc:0.986192\tvalidation_0-adaboost:0.040212\tvalidation_1-adaboost:0.606062\n",
      "[257]\tvalidation_0-auc:0.999858\tvalidation_1-auc:0.986171\tvalidation_0-adaboost:0.040031\tvalidation_1-adaboost:0.60831\n",
      "[258]\tvalidation_0-auc:0.999862\tvalidation_1-auc:0.986157\tvalidation_0-adaboost:0.039805\tvalidation_1-adaboost:0.608073\n",
      "[259]\tvalidation_0-auc:0.999865\tvalidation_1-auc:0.986152\tvalidation_0-adaboost:0.039606\tvalidation_1-adaboost:0.605157\n",
      "[260]\tvalidation_0-auc:0.999868\tvalidation_1-auc:0.986066\tvalidation_0-adaboost:0.039302\tvalidation_1-adaboost:0.615345\n",
      "[261]\tvalidation_0-auc:0.999869\tvalidation_1-auc:0.986061\tvalidation_0-adaboost:0.039206\tvalidation_1-adaboost:0.61497\n",
      "[262]\tvalidation_0-auc:0.999872\tvalidation_1-auc:0.986077\tvalidation_0-adaboost:0.03903\tvalidation_1-adaboost:0.620636\n",
      "[263]\tvalidation_0-auc:0.999873\tvalidation_1-auc:0.986144\tvalidation_0-adaboost:0.038793\tvalidation_1-adaboost:0.61744\n",
      "[264]\tvalidation_0-auc:0.999876\tvalidation_1-auc:0.986169\tvalidation_0-adaboost:0.03862\tvalidation_1-adaboost:0.619774\n",
      "[265]\tvalidation_0-auc:0.999876\tvalidation_1-auc:0.98619\tvalidation_0-adaboost:0.038482\tvalidation_1-adaboost:0.621261\n",
      "[266]\tvalidation_0-auc:0.999876\tvalidation_1-auc:0.986185\tvalidation_0-adaboost:0.038384\tvalidation_1-adaboost:0.621045\n",
      "[267]\tvalidation_0-auc:0.999876\tvalidation_1-auc:0.986247\tvalidation_0-adaboost:0.038298\tvalidation_1-adaboost:0.628638\n",
      "[268]\tvalidation_0-auc:0.999876\tvalidation_1-auc:0.986228\tvalidation_0-adaboost:0.038174\tvalidation_1-adaboost:0.62448\n",
      "[269]\tvalidation_0-auc:0.999878\tvalidation_1-auc:0.986181\tvalidation_0-adaboost:0.038042\tvalidation_1-adaboost:0.626703\n",
      "[270]\tvalidation_0-auc:0.999878\tvalidation_1-auc:0.98623\tvalidation_0-adaboost:0.037902\tvalidation_1-adaboost:0.628641\n",
      "[271]\tvalidation_0-auc:0.999882\tvalidation_1-auc:0.986162\tvalidation_0-adaboost:0.037591\tvalidation_1-adaboost:0.63542\n",
      "[272]\tvalidation_0-auc:0.999883\tvalidation_1-auc:0.986184\tvalidation_0-adaboost:0.037414\tvalidation_1-adaboost:0.634621\n",
      "[273]\tvalidation_0-auc:0.999886\tvalidation_1-auc:0.986177\tvalidation_0-adaboost:0.037231\tvalidation_1-adaboost:0.632009\n",
      "[274]\tvalidation_0-auc:0.999893\tvalidation_1-auc:0.98609\tvalidation_0-adaboost:0.036752\tvalidation_1-adaboost:0.637983\n",
      "[275]\tvalidation_0-auc:0.999897\tvalidation_1-auc:0.986132\tvalidation_0-adaboost:0.036417\tvalidation_1-adaboost:0.639297\n",
      "[276]\tvalidation_0-auc:0.999899\tvalidation_1-auc:0.986215\tvalidation_0-adaboost:0.036221\tvalidation_1-adaboost:0.640234\n"
     ]
    },
    {
     "name": "stdout",
     "output_type": "stream",
     "text": [
      "[277]\tvalidation_0-auc:0.999902\tvalidation_1-auc:0.986264\tvalidation_0-adaboost:0.036027\tvalidation_1-adaboost:0.648212\n",
      "[278]\tvalidation_0-auc:0.999903\tvalidation_1-auc:0.986296\tvalidation_0-adaboost:0.035753\tvalidation_1-adaboost:0.65197\n",
      "[279]\tvalidation_0-auc:0.999905\tvalidation_1-auc:0.986294\tvalidation_0-adaboost:0.035538\tvalidation_1-adaboost:0.651726\n",
      "[280]\tvalidation_0-auc:0.999906\tvalidation_1-auc:0.986353\tvalidation_0-adaboost:0.035324\tvalidation_1-adaboost:0.64701\n",
      "[281]\tvalidation_0-auc:0.999908\tvalidation_1-auc:0.986372\tvalidation_0-adaboost:0.035126\tvalidation_1-adaboost:0.646964\n",
      "[282]\tvalidation_0-auc:0.99991\tvalidation_1-auc:0.986409\tvalidation_0-adaboost:0.035041\tvalidation_1-adaboost:0.645768\n",
      "[283]\tvalidation_0-auc:0.999911\tvalidation_1-auc:0.986429\tvalidation_0-adaboost:0.034919\tvalidation_1-adaboost:0.647719\n",
      "[284]\tvalidation_0-auc:0.999911\tvalidation_1-auc:0.986376\tvalidation_0-adaboost:0.034842\tvalidation_1-adaboost:0.645148\n",
      "[285]\tvalidation_0-auc:0.999912\tvalidation_1-auc:0.986376\tvalidation_0-adaboost:0.034693\tvalidation_1-adaboost:0.642003\n",
      "[286]\tvalidation_0-auc:0.999918\tvalidation_1-auc:0.986434\tvalidation_0-adaboost:0.034214\tvalidation_1-adaboost:0.653354\n",
      "[287]\tvalidation_0-auc:0.999921\tvalidation_1-auc:0.986443\tvalidation_0-adaboost:0.033949\tvalidation_1-adaboost:0.641012\n",
      "[288]\tvalidation_0-auc:0.999925\tvalidation_1-auc:0.986535\tvalidation_0-adaboost:0.033608\tvalidation_1-adaboost:0.655958\n",
      "[289]\tvalidation_0-auc:0.999927\tvalidation_1-auc:0.98653\tvalidation_0-adaboost:0.033349\tvalidation_1-adaboost:0.67541\n",
      "[290]\tvalidation_0-auc:0.999928\tvalidation_1-auc:0.986561\tvalidation_0-adaboost:0.033147\tvalidation_1-adaboost:0.685521\n",
      "[291]\tvalidation_0-auc:0.999931\tvalidation_1-auc:0.986552\tvalidation_0-adaboost:0.032862\tvalidation_1-adaboost:0.680848\n",
      "[292]\tvalidation_0-auc:0.999932\tvalidation_1-auc:0.986604\tvalidation_0-adaboost:0.032627\tvalidation_1-adaboost:0.683379\n",
      "[293]\tvalidation_0-auc:0.999934\tvalidation_1-auc:0.986557\tvalidation_0-adaboost:0.032464\tvalidation_1-adaboost:0.686624\n",
      "[294]\tvalidation_0-auc:0.999934\tvalidation_1-auc:0.986516\tvalidation_0-adaboost:0.032392\tvalidation_1-adaboost:0.687728\n",
      "[295]\tvalidation_0-auc:0.999934\tvalidation_1-auc:0.986606\tvalidation_0-adaboost:0.032333\tvalidation_1-adaboost:0.675545\n",
      "[296]\tvalidation_0-auc:0.999936\tvalidation_1-auc:0.986591\tvalidation_0-adaboost:0.032064\tvalidation_1-adaboost:0.686839\n",
      "[297]\tvalidation_0-auc:0.999937\tvalidation_1-auc:0.986568\tvalidation_0-adaboost:0.031908\tvalidation_1-adaboost:0.700689\n",
      "[298]\tvalidation_0-auc:0.999938\tvalidation_1-auc:0.986562\tvalidation_0-adaboost:0.031813\tvalidation_1-adaboost:0.697781\n",
      "[299]\tvalidation_0-auc:0.999939\tvalidation_1-auc:0.986569\tvalidation_0-adaboost:0.031676\tvalidation_1-adaboost:0.704272\n"
     ]
    },
    {
     "data": {
      "text/plain": [
       "XGBClassifier(base_score=0.5, booster='gbtree', colsample_bylevel=1,\n",
       "       colsample_bytree=1, gamma=0.1, learning_rate=0.1, max_delta_step=0,\n",
       "       max_depth=3, min_child_weight=2, missing=None, n_estimators=300,\n",
       "       n_jobs=1, nthread=None,\n",
       "       obj=<function adaboost_loss at 0x7fe52c09db18>,\n",
       "       objective='binary:logitraw', random_state=0, reg_alpha=0,\n",
       "       reg_lambda=2, scale_pos_weight=1, seed=None, silent=True,\n",
       "       subsample=1)"
      ]
     },
     "execution_count": 412,
     "metadata": {},
     "output_type": "execute_result"
    }
   ],
   "source": [
    "xg.fit(X, y, eval_set=[(X, y), (X_test, y_test)], eval_metric=evalerror)"
   ]
  },
  {
   "cell_type": "code",
   "execution_count": 413,
   "metadata": {},
   "outputs": [],
   "source": [
    "losses = xg.evals_result()"
   ]
  },
  {
   "cell_type": "code",
   "execution_count": 414,
   "metadata": {},
   "outputs": [],
   "source": [
    "model_train_losses = np.array(losses[\"validation_0\"][\"adaboost\"])\n",
    "model_test_losses = np.array(losses[\"validation_1\"][\"adaboost\"])"
   ]
  },
  {
   "cell_type": "code",
   "execution_count": null,
   "metadata": {},
   "outputs": [],
   "source": []
  },
  {
   "cell_type": "code",
   "execution_count": null,
   "metadata": {},
   "outputs": [],
   "source": []
  },
  {
   "cell_type": "code",
   "execution_count": 419,
   "metadata": {},
   "outputs": [
    {
     "name": "stdout",
     "output_type": "stream",
     "text": [
      "xgboost lib on train =  0.031676\n",
      "custom on train =  0.03722863851575831\n",
      "xgboost lib on test =  0.704272\n",
      "custom on test =  0.36575077033153774\n"
     ]
    }
   ],
   "source": [
    "print \"xgboost lib on train = \", model_train_losses[-1]\n",
    "print \"custom on train = \", xgboost.losses[-1]\n",
    "print \"xgboost lib on test = \", model_test_losses[-1]\n",
    "print \"custom on test = \", AdaboostLoss().value(y_test, xgboost.predict_proba(X_test))"
   ]
  },
  {
   "cell_type": "code",
   "execution_count": 420,
   "metadata": {},
   "outputs": [
    {
     "data": {
      "text/plain": [
       "<matplotlib.legend.Legend at 0x7fe5191c7a50>"
      ]
     },
     "execution_count": 420,
     "metadata": {},
     "output_type": "execute_result"
    },
    {
     "data": {
      "image/png": "[encoded data removed]",
      "text/plain": [
       "<matplotlib.figure.Figure at 0x7fe518a38710>"
      ]
     },
     "metadata": {},
     "output_type": "display_data"
    }
   ],
   "source": [
    "plt.plot(range(300), model_train_losses, label='xgboost lib')\n",
    "plt.plot(range(300), model_train_losses * 1.03, label='xgboost lib', linestyle = '--')\n",
    "plt.plot(range(300), model_train_losses * 0.97, label='xgboost lib', linestyle = '--')\n",
    "plt.plot(range(300), xgboost.losses, label='custom')\n",
    "plt.ylim(0.02, 0.1)\n",
    "plt.xlim(100, 300)\n",
    "plt.legend()"
   ]
  },
  {
   "cell_type": "code",
   "execution_count": null,
   "metadata": {},
   "outputs": [],
   "source": []
  }
 ],
 "metadata": {
  "kernelspec": {
   "display_name": "Python 2",
   "language": "python",
   "name": "python2"
  },
  "language_info": {
   "codemirror_mode": {
    "name": "ipython",
    "version": 2
   },
   "file_extension": ".py",
   "mimetype": "text/x-python",
   "name": "python",
   "nbconvert_exporter": "python",
   "pygments_lexer": "ipython2",
   "version": "2.7.14"
  }
 },
 "nbformat": 4,
 "nbformat_minor": 2
}
