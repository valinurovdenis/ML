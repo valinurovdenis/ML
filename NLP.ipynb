{
 "cells": [
  {
   "cell_type": "code",
   "execution_count": 16,
   "metadata": {},
   "outputs": [],
   "source": [
    "import numpy as np\n",
    "import re\n",
    "from torch import nn\n",
    "from torch.autograd import Variable\n",
    "import matplotlib.pyplot as plt\n",
    "import torch\n",
    "from torch.utils.data import Dataset, DataLoader\n",
    "from torch.optim.lr_scheduler import ReduceLROnPlateau\n",
    "import sys\n",
    "import datetime\n",
    "import time\n",
    "import requests\n",
    "from lxml import html\n",
    "from functools import wraps\n",
    "%matplotlib inline"
   ]
  },
  {
   "cell_type": "markdown",
   "metadata": {},
   "source": [
    "<b>Скачаем цитаты из http://www.quotationspage.com/mqotd/archive.html и сохраним в файл</b>"
   ]
  },
  {
   "cell_type": "code",
   "execution_count": 6,
   "metadata": {},
   "outputs": [
    {
     "name": "stdout",
     "output_type": "stream",
     "text": [
      "get until date 2018-12-22\r"
     ]
    }
   ],
   "source": [
    "quotes = []\n",
    "url = \"http://www.quotationspage.com/mqotd/{}-{}-{}.html\"\n",
    "date = datetime.datetime(year=2004, month=1, day=1)\n",
    "today = datetime.datetime.now()\n",
    "pages_per_sec = 5\n",
    "sleep_time = 1. / pages_per_sec\n",
    "\n",
    "\n",
    "def throttler(f):\n",
    "    @wraps(f)\n",
    "    def throttle(*args, **kwargs):\n",
    "        start_time = time.time()\n",
    "        f(*args, **kwargs)\n",
    "        time.sleep(max(0, sleep_time - time.time() + start_time))\n",
    "    return throttle\n",
    "\n",
    "\n",
    "@throttler\n",
    "def get_quotes_from_page(url):\n",
    "    page = requests.get(url)\n",
    "    tree = html.fromstring(page.content)\n",
    "    quotes.extend([x.text for x in tree.xpath('//dt[@class=\"quote\"]/a')])\n",
    "\n",
    "\n",
    "while (date + datetime.timedelta(days=1) < today):\n",
    "    get_quotes_from_page(url.format(date.year, date.month, date.day))\n",
    "    sys.stdout.write(\"get until date {}-{}-{}\\r\".format(date.year, date.month, date.day))\n",
    "    date += datetime.timedelta(days=1)"
   ]
  },
  {
   "cell_type": "code",
   "execution_count": 10,
   "metadata": {},
   "outputs": [
    {
     "name": "stdout",
     "output_type": "stream",
     "text": [
      "4377\n"
     ]
    }
   ],
   "source": [
    "quotes = set(quotes)\n",
    "print(len(quotes))\n",
    "with open('quotes.txt', 'w') as f:\n",
    "    for quote in quotes:\n",
    "        if quote is not None:\n",
    "            f.write(quote.encode('utf-8') + '\\n')"
   ]
  },
  {
   "cell_type": "markdown",
   "metadata": {},
   "source": [
    "<b>Скачаем из файла и отберём только цитаты меньше 200 симолов</b>"
   ]
  },
  {
   "cell_type": "code",
   "execution_count": 21,
   "metadata": {},
   "outputs": [],
   "source": [
    "text = open('quotes.txt').read()\n",
    "quotes = text.split('\\n')"
   ]
  },
  {
   "cell_type": "code",
   "execution_count": 23,
   "metadata": {},
   "outputs": [
    {
     "data": {
      "image/png": "[encoded data removed]",
      "text/plain": [
       "<matplotlib.figure.Figure at 0x7f7f5f88df10>"
      ]
     },
     "metadata": {},
     "output_type": "display_data"
    }
   ],
   "source": [
    "plt.hist(map(len, quotes), bins=100);"
   ]
  },
  {
   "cell_type": "code",
   "execution_count": 24,
   "metadata": {},
   "outputs": [],
   "source": [
    "lines = filter(lambda x: len(x) <= 200, quotes)"
   ]
  },
  {
   "cell_type": "markdown",
   "metadata": {},
   "source": [
    "<b>Закодируем числами все встречающиеся символы + 2 вспомогательных - начало и конец цитаты</b>"
   ]
  },
  {
   "cell_type": "code",
   "execution_count": 27,
   "metadata": {},
   "outputs": [],
   "source": [
    "class Vocabulary:\n",
    "    def __init__(self, sentences):\n",
    "        all_characters = set()\n",
    "        for line in sentences:\n",
    "            all_characters |= set(line)\n",
    "        all_characters = list(all_characters)+['<eos>', '<go>']\n",
    "        self.char_to_id = {x[1]:x[0] for x in enumerate(all_characters)}\n",
    "        self.id_to_char = {x[0]:x[1] for x in enumerate(all_characters)}\n",
    "        self.size = len(all_characters)\n",
    "\n",
    "    def encode(self, line):\n",
    "        return np.array([self.char_to_id[x] for x in line])\n",
    "    \n",
    "    def decode(self, tokens):\n",
    "        return ''.join([self.id_to_char[x] for x in tokens])"
   ]
  },
  {
   "cell_type": "code",
   "execution_count": 28,
   "metadata": {},
   "outputs": [],
   "source": [
    "vocab = Vocabulary(lines)"
   ]
  },
  {
   "cell_type": "markdown",
   "metadata": {},
   "source": [
    "<b>Определим даталоадер примеров для сети</b>"
   ]
  },
  {
   "cell_type": "code",
   "execution_count": 30,
   "metadata": {},
   "outputs": [],
   "source": [
    "class Quotes(Dataset):\n",
    "    def __init__(self, sentences, vocab):\n",
    "        self.sentences = sentences\n",
    "        self.vocab = vocab\n",
    "        \n",
    "    def __len__(self):\n",
    "        return len(self.sentences)\n",
    "        \n",
    "    def __getitem__(self, idx):\n",
    "        input = self.vocab.encode(['<go>'] + list(self.sentences[idx]))\n",
    "        output = self.vocab.encode(list(self.sentences[idx])+['<eos>'])\n",
    "        return input, output"
   ]
  },
  {
   "cell_type": "code",
   "execution_count": 31,
   "metadata": {},
   "outputs": [],
   "source": [
    "dataset = Quotes(lines, vocab)"
   ]
  },
  {
   "cell_type": "code",
   "execution_count": 32,
   "metadata": {},
   "outputs": [],
   "source": [
    "dataloader = DataLoader(dataset, shuffle=True)"
   ]
  },
  {
   "cell_type": "markdown",
   "metadata": {},
   "source": [
    "<b>Определим структуру по примеру https://github.com/spro/practical-pytorch/blob/master/char-rnn-generation/char-rnn-generation.ipynb - <br>\n",
    "    1) на входе слой ембеддинга, который возвращает внутренние представления цитат заданной размерности<br>\n",
    "    2) рекуррентная сеть - цель - запоминать связи букв и возвращать их в некотором численном выражении<br>\n",
    "    3) линейный слой - из выхода предыдущего слоя определяет значения классов букв (следующей буквы) - в генерации из этих значений с помощью софтмакс считаются вероятности следования букв. Генерируется наиболее вероятная буква (можно брать рандомную из некоторого количества наиболее вероятных)\n",
    "</b>"
   ]
  },
  {
   "cell_type": "code",
   "execution_count": 40,
   "metadata": {},
   "outputs": [],
   "source": [
    "class Oracle(nn.Module):\n",
    "    def __init__(self, vocabulary_size, embedding_size=128, hidden_size=256, layers=2):\n",
    "        super(Oracle, self).__init__()\n",
    "        self.embedding_size = embedding_size\n",
    "        self.layers = layers\n",
    "        self.hidden_size = hidden_size\n",
    "        self.embedding = nn.Embedding(vocabulary_size, embedding_size)\n",
    "        self.generator = nn.GRU(embedding_size, hidden_size, layers, batch_first=True)\n",
    "        self.classifier = nn.Linear(hidden_size, vocabulary_size)\n",
    "    \n",
    "    def forward(self, input):\n",
    "        embedding = self.embedding(input)\n",
    "        h = Variable(torch.zeros(self.layers, 1, self.hidden_size))\n",
    "        output, _ = self.generator(embedding, (h))\n",
    "        classes = self.classifier(output[0])\n",
    "        return classes\n",
    "    \n",
    "    def generate(self, vocab, max_len=200):\n",
    "        h = Variable(torch.zeros(self.layers, 1, self.hidden_size))\n",
    "        current_token = '<go>'\n",
    "        line = ''\n",
    "        while (current_token != '<eos>') and len(line) < max_len:\n",
    "            token = torch.Tensor([[vocab.char_to_id[current_token]]]).long()\n",
    "            token_id = Variable(token, volatile=True)\n",
    "            embedding = self.embedding(token_id)\n",
    "            output, (h) = self.generator(embedding, (h))\n",
    "            classes = self.classifier(output[0])\n",
    "            classes_val = classes.data.numpy().reshape(-1)\n",
    "            classes_prob = np.exp(classes_val) / np.sum(np.exp(classes_val))\n",
    "            new_token_id = np.random.choice(classes_prob.shape[0], p=classes_prob, size=1)[0]\n",
    "            # new_token_id = np.argmax(classes.data.numpy()) # <- here\n",
    "            current_token = vocab.id_to_char[new_token_id]\n",
    "            line = line + current_token\n",
    "        return line"
   ]
  },
  {
   "cell_type": "code",
   "execution_count": 41,
   "metadata": {},
   "outputs": [],
   "source": [
    "oracle = Oracle(vocab.size, embedding_size=32, hidden_size=64, layers=2)"
   ]
  },
  {
   "cell_type": "markdown",
   "metadata": {},
   "source": [
    "<b>Обучаем модель. Главная задача модели научиться предсказывать следующие буквы. В качестве лосса используем CrossEntropyLoss</b>"
   ]
  },
  {
   "cell_type": "code",
   "execution_count": 46,
   "metadata": {},
   "outputs": [],
   "source": [
    "optimizer = torch.optim.Adam(oracle.parameters(), lr=0.01, betas=(0.1, 0.999))"
   ]
  },
  {
   "cell_type": "code",
   "execution_count": 47,
   "metadata": {},
   "outputs": [],
   "source": [
    "criterion = nn.CrossEntropyLoss()"
   ]
  },
  {
   "cell_type": "code",
   "execution_count": 48,
   "metadata": {},
   "outputs": [],
   "source": [
    "losses = []"
   ]
  },
  {
   "cell_type": "code",
   "execution_count": 49,
   "metadata": {},
   "outputs": [],
   "source": [
    "lr_reducer = ReduceLROnPlateau(optimizer, min_lr=1e-5)"
   ]
  },
  {
   "cell_type": "code",
   "execution_count": 50,
   "metadata": {
    "scrolled": true
   },
   "outputs": [
    {
     "name": "stderr",
     "output_type": "stream",
     "text": [
      "/home/denis/anaconda2/lib/python2.7/site-packages/ipykernel_launcher.py:12: UserWarning: invalid index of a 0-dim tensor. This will be an error in PyTorch 0.5. Use tensor.item() to convert a 0-dim tensor to a Python number\n",
      "  if sys.path[0] == '':\n",
      "/home/denis/anaconda2/lib/python2.7/site-packages/ipykernel_launcher.py:13: UserWarning: invalid index of a 0-dim tensor. This will be an error in PyTorch 0.5. Use tensor.item() to convert a 0-dim tensor to a Python number\n",
      "  del sys.path[0]\n",
      "/home/denis/anaconda2/lib/python2.7/site-packages/ipykernel_launcher.py:24: UserWarning: volatile was removed and now has no effect. Use `with torch.no_grad():` instead.\n"
     ]
    },
    {
     "name": "stdout",
     "output_type": "stream",
     "text": [
      "epoch=0 loss=2.18091654778 The liik,.<eos>\n",
      "epoch=1 loss=1.69869446754 I people and ourselvered enaven at what I what what touth all to rarting, and it.<eos>\n",
      "epoch=2 loss=1.55468773842 It's but til talkew in ttakenings gives.<eos>\n",
      "epoch=3 loss=1.50465202332 Those one dallolent you don't pertaked of con, a good and the fubting what I mustle meads is nothing and thyself. Something ecers refuse - Andorail, moud the elsed if is to choortun, all badive I must\n",
      "epoch=4 loss=1.45707094669 I be cuory, really sacking het a defear in to be people and not thyuase that we charing fear sail.<eos>\n",
      "epoch=5 loss=1.46107697487 Ache right he is an allows about but well into super oursab, fruit you aren its badicuce some, evises it periage.<eos>\n",
      "epoch=6 loss=1.45941233635 Entrankly ong is the pracite raintripe his just cinds succe't great that your of a great my incan art of all 15 kindth has not gonese of even the wisiful is to will into days. Happit unthing anywacty \n",
      "epoch=7 loss=1.40533792973 Cometal only balance.<eos>\n",
      "epoch=8 loss=1.41348946095 It ching old, it's things people can do what everice than time, you chound strack what you neg art of a man.<eos>\n",
      "epoch=9 loss=1.38230586052 Thore is soul.<eos>\n",
      "epoch=10 loss=1.37367033958 We look why every keeked says, it is friends in he working out equst quits. It's you is more bining as torth down to be design is like you are and enjoikpent eacher to happectifes, you have risk.<eos>\n",
      "epoch=11 loss=1.43433988094 Many is roties.<eos>\n",
      "epoch=12 loss=1.40520882607 Treat another, wondailling speak on all without are, that when unbuce; ittch an until it abey priaklent always aroung bigger and supparify. You wastent doubt.<eos>\n",
      "epoch=13 loss=1.39110457897 He will into timisming yourself.<eos>\n",
      "epoch=14 loss=1.38262796402 About.<eos>\n",
      "epoch=15 loss=1.40655255318 A much.<eos>\n",
      "epoch=16 loss=1.37952744961 yourself that.<eos>\n",
      "epoch=17 loss=1.40581929684 To look you dont cleaps.<eos>\n",
      "epoch=18 loss=1.41114711761 I've we eversaation.<eos>\n",
      "epoch=19 loss=1.37791264057 It's chir is not be die, and greater there 'folative plenton from eathers rest.<eos>\n",
      "epoch=20 loss=1.41297197342 There's best.<eos>\n",
      "epoch=21 loss=1.37639474869 Suless solve a sponting failure of be can't sick upon of each arminds ever someone in choses of do not shulsh foln the ruld as fun of put as which respect you do how it is the power thing reax a playe\n",
      "epoch=22 loss=1.3476588726 Art does.<eos>\n",
      "epoch=23 loss=1.30794274807 The no funed and shaped about three; the world for wheeve harden about the troubligeneful that the lie.<eos>\n",
      "epoch=24 loss=1.28667724133 Each man than our assuf that chower as and try to do his<eos>\n",
      "epoch=25 loss=1.29905235767 Harment to bloos monthing coued is any failure is never there's creative, as it's time be, knows without live the.<eos>\n",
      "epoch=26 loss=1.25713384151 To know you have that which every good way organition.<eos>\n",
      "epoch=27 loss=1.25487589836 Exearing do new where you pake of other perfects.<eos>\n",
      "epoch=28 loss=1.27585709095 Do, know we can get away.<eos>\n",
      "epoch=29 loss=1.25593400002 Believed of culity.<eos>\n",
      "epoch=30 loss=1.25304841995 Fail look, shanice, is to be loved, seech of reward in the endure.<eos>\n",
      "epoch=31 loss=1.23342931271 All the high long every courage of somebody: the search you dost and lone is.<eos>\n",
      "epoch=32 loss=1.25196254253 If your evil and human infered as responsibility, it's apauty joy.<eos>\n",
      "epoch=33 loss=1.2418268919 Look the produal discreet to bellowing opportunity of other persar make a duty.<eos>\n",
      "epoch=34 loss=1.22329735756 There is all the arts.<eos>\n",
      "epoch=35 loss=1.27172088623 Depressing as you said how to all in life.<eos>\n",
      "epoch=36 loss=1.23995149136 Don't know well be them.<eos>\n",
      "epoch=37 loss=1.22374761105 Anything is crisist.<eos>\n",
      "epoch=38 loss=1.25409924984 Take hourly.<eos>\n",
      "epoch=39 loss=1.23635423183 If you will to be joy from own way over yourself.<eos>\n",
      "epoch=40 loss=1.25275611877 Continamity, and this desire to my sbill than daveralt of the do something, to secret courage our play and myself, and the greater to please deal learn you don't know better dealing to children backer\n",
      "epoch=41 loss=1.24443113804 AThing, but get musrect what ieserve.<eos>\n",
      "epoch=42 loss=1.25079512596 Nothing are discritive things when youre is not interhow everything who ever frund this worry and bustrue our ming a do a great to change.<eos>\n",
      "epoch=43 loss=1.23846518993 A cumor or never convictionst felence no things when you must live.<eos>\n",
      "epoch=44 loss=1.21478283405 Anger becomes you desire in order of the future.<eos>\n",
      "epoch=45 loss=1.23998224735 Things someone<eos>\n",
      "epoch=46 loss=1.20141744614 One may know food to 100? Men; make a ralls talk.<eos>\n",
      "epoch=47 loss=1.24583005905 Take the his all those ones.<eos>\n",
      "epoch=48 loss=1.23861765862 There which take relieff happiness only the present as grow.<eos>\n",
      "epoch=49 loss=1.21827948093 Curule brings in people.<eos>\n"
     ]
    }
   ],
   "source": [
    "for epoch in xrange(50):\n",
    "    local_losses = []\n",
    "    for i, (batch, target) in enumerate(dataloader):\n",
    "        batch = Variable(batch)\n",
    "        target = Variable(target, requires_grad=False)[0]\n",
    "        prediction = oracle(batch)\n",
    "        loss = criterion(prediction, target)\n",
    "        loss.backward()\n",
    "        if i%32 == 0: # aka batch\n",
    "            optimizer.step()\n",
    "            oracle.zero_grad()\n",
    "            losses.append(loss.data[0])\n",
    "            local_losses.append(loss.data[0])\n",
    "            # print loss.data[0], oracle.generate(vocab)\n",
    "    epoch_loss = np.mean(local_losses)\n",
    "    lr_reducer.step(epoch_loss)\n",
    "    print 'epoch={} loss={} {}'.format(epoch, epoch_loss, oracle.generate(vocab))"
   ]
  },
  {
   "cell_type": "markdown",
   "metadata": {},
   "source": [
    "oracle.generate(vocab)"
   ]
  },
  {
   "cell_type": "markdown",
   "metadata": {},
   "source": [
    "<b>Loss модели</b>"
   ]
  },
  {
   "cell_type": "code",
   "execution_count": 54,
   "metadata": {},
   "outputs": [
    {
     "data": {
      "text/plain": [
       "[<matplotlib.lines.Line2D at 0x7f7f5c486090>]"
      ]
     },
     "execution_count": 54,
     "metadata": {},
     "output_type": "execute_result"
    },
    {
     "data": {
      "image/png": "[encoded data removed]",
      "text/plain": [
       "<matplotlib.figure.Figure at 0x7f7f5ebfcc90>"
      ]
     },
     "metadata": {},
     "output_type": "display_data"
    }
   ],
   "source": [
    "plt.plot(losses)"
   ]
  },
  {
   "cell_type": "raw",
   "metadata": {},
   "source": []
  }
 ],
 "metadata": {
  "kernelspec": {
   "display_name": "Python 2",
   "language": "python",
   "name": "python2"
  },
  "language_info": {
   "codemirror_mode": {
    "name": "ipython",
    "version": 2
   },
   "file_extension": ".py",
   "mimetype": "text/x-python",
   "name": "python",
   "nbconvert_exporter": "python",
   "pygments_lexer": "ipython2",
   "version": "2.7.14"
  },
  "latex_envs": {
   "bibliofile": "biblio.bib",
   "cite_by": "apalike",
   "current_citInitial": 1,
   "eqLabelWithNumbers": true,
   "eqNumInitial": 0
  }
 },
 "nbformat": 4,
 "nbformat_minor": 1
}
